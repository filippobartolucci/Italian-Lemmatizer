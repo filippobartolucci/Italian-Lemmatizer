{
  "cells": [
    {
      "cell_type": "markdown",
      "metadata": {
        "id": "zlXK_WPhCXve"
      },
      "source": [
        "# Italian Word Lemmatizer"
      ]
    },
    {
      "cell_type": "markdown",
      "metadata": {
        "id": "LfFQpeq7CXvj"
      },
      "source": [
        "### Import\n"
      ]
    },
    {
      "cell_type": "code",
      "execution_count": 27,
      "metadata": {
        "id": "1m3hfyemCXvj"
      },
      "outputs": [],
      "source": [
        "import seaborn as sns\n",
        "import matplotlib.pyplot as plt\n",
        "from keras import backend as K\n",
        "from keras.layers import Input, LSTM, Dense, Embedding, Concatenate, Bidirectional, TimeDistributed, RepeatVector, Activation, Dot, Lambda, Dropout, Add, Multiply, Masking, Attention\n",
        "from keras.models import Model\n",
        "from keras.preprocessing.text import Tokenizer\n",
        "from sklearn.model_selection import train_test_split\n",
        "from sklearn.preprocessing import OneHotEncoder\n",
        "from keras.callbacks import EarlyStopping, ReduceLROnPlateau\n",
        "from sklearn.model_selection import train_test_split\n",
        "import numpy as np\n",
        "import gensim\n",
        "import tensorflow as tf\n",
        "import pandas as pd\n",
        "import datetime\n",
        "import os\n",
        "os.environ['TF_CPP_MIN_LOG_LEVEL'] = '3'\n",
        "\n",
        "# set all random seeds\n",
        "np.random.seed(42)\n",
        "tf.random.set_seed(42)\n"
      ]
    },
    {
      "cell_type": "markdown",
      "metadata": {
        "id": "ZEeIQWgECXvk"
      },
      "source": [
        "## Dataset"
      ]
    },
    {
      "cell_type": "code",
      "execution_count": 28,
      "metadata": {
        "colab": {
          "base_uri": "https://localhost:8080/"
        },
        "id": "JcBN-hJ3CXvl",
        "outputId": "840d4153-1800-4c70-d994-973b1bd1aade"
      },
      "outputs": [
        {
          "name": "stdout",
          "output_type": "stream",
          "text": [
            "Max sentence length:  95\n",
            "Max sentence length:  107\n",
            "Number of sentences in dev set:  703\n",
            "Number of sentences in test set:  5596\n",
            "Number of unique tags:  32\n"
          ]
        }
      ],
      "source": [
        "\n",
        "dataset_path = \"./dev.csv\"\n",
        "df_dev = pd.read_csv(dataset_path, sep=\"\\t\", header=None,\n",
        "                     names=[\"word\", \"tag\", \"lemm\"])\n",
        "\n",
        "dataset_path = \"./test.csv\"\n",
        "df_test = pd.read_csv(dataset_path, sep=\"\\t\", header=None,\n",
        "                      names=[\"word\", \"tag\", \"lemm\"])\n",
        "\n",
        "df_dev[\"word\"] = df_dev[\"word\"].astype(str)\n",
        "df_dev[\"tag\"] = df_dev[\"tag\"].astype(str)\n",
        "df_dev[\"lemm\"] = df_dev[\"lemm\"].astype(str)\n",
        "\n",
        "df_test[\"word\"] = df_test[\"word\"].astype(str)\n",
        "df_test[\"tag\"] = df_test[\"tag\"].astype(str)\n",
        "df_test[\"lemm\"] = df_test[\"lemm\"].astype(str)\n",
        "\n",
        "# remove head\n",
        "df_dev = df_dev.iloc[1:]\n",
        "df_test = df_test.iloc[1:]\n",
        "\n",
        "# lower case all words\n",
        "df_test[\"word\"] = df_test[\"word\"].str.lower()\n",
        "df_dev[\"word\"] = df_dev[\"word\"].str.lower()\n",
        "\n",
        "def get_sentences(df):\n",
        "    words = []\n",
        "    tags = []\n",
        "    lemmas = []\n",
        "    sentence = []\n",
        "    max_s = 0\n",
        "    for index, row in df.iterrows():\n",
        "        word = row[\"word\"]\n",
        "        tag = row[\"tag\"]\n",
        "        lemm = row[\"lemm\"]\n",
        "        sentence.append([word, tag, lemm])\n",
        "\n",
        "        if row[\"word\"] in [\".\", \"?\", \"!\", \";\"]:\n",
        "            words.append([word for word, tag, lemm in sentence])\n",
        "            tags.append([tag for word, tag, lemm in sentence])\n",
        "            lemmas.append([lemm for word, tag, lemm in sentence])\n",
        "            max_s = max(max_s, len(sentence))\n",
        "            sentence = []\n",
        "\n",
        "    print(\"Max sentence length: \", max_s)\n",
        "    return words, tags, lemmas\n",
        "\n",
        "# _s is for string\n",
        "dev_words_s, dev_tags_s, dev_lemmas_s = get_sentences(df_dev)\n",
        "test_words_s, test_tags_s, test_lemmas_s = get_sentences(df_test)\n",
        "print(\"Number of sentences in dev set: \", len(dev_words_s))\n",
        "print(\"Number of sentences in test set: \", len(test_words_s))\n",
        "\n",
        "# print number of unique tags\n",
        "print(\"Number of unique tags: \", len(df_dev[\"tag\"].unique()))\n",
        "\n",
        "for i in range(len(dev_words_s)):\n",
        "    if len(dev_words_s[i]) != len(dev_tags_s[i]) or len(dev_words_s[i]) != len(dev_lemmas_s[i]):\n",
        "        print(\"Dimension mismatch in sentence: \", i)\n",
        "        print(\"Words: \", dev_words_s[i])\n",
        "        print(\"Tags: \", dev_tags_s[i])\n",
        "        print(\"Lemmas: \", dev_lemmas_s[i])\n",
        "        break"
      ]
    },
    {
      "cell_type": "code",
      "execution_count": 29,
      "metadata": {
        "colab": {
          "base_uri": "https://localhost:8080/",
          "height": 628
        },
        "id": "yJ04hS-bCXvl",
        "outputId": "bf44d144-799a-441f-adb7-823d3661d376"
      },
      "outputs": [
        {
          "data": {
            "image/png": "[encoded data removed]",
            "text/plain": [
              "<Figure size 1440x720 with 1 Axes>"
            ]
          },
          "metadata": {
            "needs_background": "light"
          },
          "output_type": "display_data"
        }
      ],
      "source": [
        "# plot tag distribution\n",
        "tags = []\n",
        "for tag_list in dev_tags_s:\n",
        "    tags.extend(tag_list)\n",
        "\n",
        "tags = pd.Series(tags)\n",
        "tags.value_counts().plot(kind=\"bar\", figsize=(20, 10))\n",
        "plt.show()"
      ]
    },
    {
      "cell_type": "markdown",
      "metadata": {
        "id": "QieUyx1CCXvo"
      },
      "source": [
        "## Word Context"
      ]
    },
    {
      "cell_type": "code",
      "execution_count": 30,
      "metadata": {
        "colab": {
          "base_uri": "https://localhost:8080/"
        },
        "id": "l9dkBA-zCXvo",
        "outputId": "5255301a-17c9-41fa-86a5-309f55e655e7"
      },
      "outputs": [
        {
          "name": "stdout",
          "output_type": "stream",
          "text": [
            "Number of sample in dev set:  16447\n",
            "Number of sample in val set:  866\n",
            "Number of sample in test set:  133756\n"
          ]
        }
      ],
      "source": [
        "CTX_DIM = 12            # context dimension, 12 words on each side\n",
        "PRE_VALUE = \"<PRE>\"     # value for padding pre \n",
        "POST_VALUE = \"<POST>\"   # value for padding post\n",
        "NONE_TAG = \"<NONE>\"     # value for padding tags\n",
        "\n",
        "def get_context(words, tags, lemmas):\n",
        "    ctx = []    # context list\n",
        "    w = []      # word list\n",
        "    tag = []    # context tags list\n",
        "    t = []      # word tags list\n",
        "    lemma = []  # lemma list\n",
        "\n",
        "    for s_index in range(len(words)):\n",
        "        s = words[s_index]\n",
        "        s_tags = tags[s_index]\n",
        "        sentence = \" \".join(s)\n",
        "        s = [PRE_VALUE] * CTX_DIM + s + [POST_VALUE] * CTX_DIM\n",
        "        s_tags = [NONE_TAG] * CTX_DIM + s_tags + [NONE_TAG] * CTX_DIM\n",
        "\n",
        "        for w_index in range(len(s)):\n",
        "            if w_index < CTX_DIM or w_index >= len(s) - CTX_DIM:\n",
        "                continue\n",
        "\n",
        "            context = s[w_index - CTX_DIM:w_index] + [s[w_index]] +s[w_index + 1:w_index  + CTX_DIM + 1]\n",
        "            context = \" \".join(context)\n",
        "            ctx.append(context)\n",
        "            w.append(words[s_index][w_index-CTX_DIM])\n",
        "\n",
        "            ctx_tags = s_tags[w_index - CTX_DIM:w_index] + [s_tags[w_index]] + s_tags[w_index + 1:w_index  + CTX_DIM + 1]\n",
        "            tag.append(ctx_tags)\n",
        "            t.append(tags[s_index][w_index-CTX_DIM])\n",
        "\n",
        "            lemma.append(lemmas[s_index][w_index-CTX_DIM])\n",
        "    return ctx, w, tag, t, lemma\n",
        "\n",
        "dev_ctx, dev_words, dev_tags, dev_tag,dev_lemmas = get_context(dev_words_s, dev_tags_s, dev_lemmas_s)\n",
        "test_ctx, test_words, test_tags, test_tag,test_lemmas = get_context(test_words_s, test_tags_s, test_lemmas_s)\n",
        "\n",
        "dev_ctx, val_ctx, dev_words, val_words, dev_tags, val_tags, dev_tag, val_tag, dev_lemmas, val_lemmas = train_test_split(dev_ctx, dev_words, dev_tags, dev_tag, dev_lemmas, test_size=0.05, random_state=42)\n",
        "\n",
        "print(\"Number of sample in dev set: \", len(dev_lemmas))\n",
        "print(\"Number of sample in val set: \", len(val_lemmas))\n",
        "print(\"Number of sample in test set: \", len(test_lemmas))"
      ]
    },
    {
      "cell_type": "markdown",
      "metadata": {
        "id": "XfMwZrgcCXvo"
      },
      "source": [
        "### Example of context"
      ]
    },
    {
      "cell_type": "code",
      "execution_count": 31,
      "metadata": {
        "colab": {
          "base_uri": "https://localhost:8080/"
        },
        "id": "BVoxwHO4CXvp",
        "outputId": "0fa1e03e-0a7c-4338-9d2d-b5cedf8a9e97"
      },
      "outputs": [
        {
          "name": "stdout",
          "output_type": "stream",
          "text": [
            "CTX Dim: 12 \n",
            "\n",
            "CTX:  <PRE> ma i blair , con i ragazzi da distrarre , avevano altre idee . <POST> <POST> <POST> <POST> <POST> <POST> <POST> <POST> <POST> <POST>\n",
            "CTX Tags:  ['<NONE>', 'conj_c', 'art', 'nn_p', 'p_oth', 'prep', 'art', 'nn', 'prep', 'v_gvrb', 'p_oth', 'v_avere', 'adj_ind', 'nn', 'p_eos', '<NONE>', '<NONE>', '<NONE>', '<NONE>', '<NONE>', '<NONE>', '<NONE>', '<NONE>', '<NONE>', '<NONE>']\n",
            "Word:  altre\n",
            "Tag:  adj_ind\n",
            "Lemma:  altro\n",
            "\n",
            "CTX:  rigorosamente accademico , corredata da una ricca e del tutto inverosimile bibliografia e arricchita da numerose tavole iconografiche , &egrave; stata recentemente pubblicata anche in\n",
            "CTX Tags:  ['adv', 'adj', 'p_oth', 'v_pp', 'prep', 'art', 'adj', 'conj_c', 'prep_a', 'nn', 'adj', 'nn', 'conj_c', 'v_pp', 'prep', 'adj', 'nn', 'adj', 'p_oth', 'v_essere', 'v_essere', 'adv', 'v_pp', 'conj_c', 'prep']\n",
            "Word:  e\n",
            "Tag:  conj_c\n",
            "Lemma:  e\n",
            "\n",
            "CTX:  * difesa dei diritti dei curdi l' italia porter&agrave; davanti_ai fori internazionali la questione dei diritti del popolo curdo . <POST> <POST> <POST> <POST> <POST>\n",
            "CTX Tags:  ['p_oth', 'nn', 'prep_a', 'nn', 'prep_a', 'nn', 'art', 'nn_p', 'v_gvrb', 'prep_a', 'nn', 'adj', 'art', 'nn', 'prep_a', 'nn', 'prep_a', 'nn', 'adj', 'p_eos', '<NONE>', '<NONE>', '<NONE>', '<NONE>', '<NONE>']\n",
            "Word:  la\n",
            "Tag:  art\n",
            "Lemma:  la\n",
            "\n"
          ]
        }
      ],
      "source": [
        "print(\"CTX Dim:\", CTX_DIM, \"\\n\")\n",
        "for i in range(3):\n",
        "    index = np.random.randint(0, len(dev_ctx))\n",
        "    print(\"CTX: \", dev_ctx[index])\n",
        "    print(\"CTX Tags: \", dev_tags[index])\n",
        "    print(\"Word: \", dev_words[index])\n",
        "    print(\"Tag: \", dev_tag[index])\n",
        "    print(\"Lemma: \", dev_lemmas[index])\n",
        "    print()\n"
      ]
    },
    {
      "cell_type": "markdown",
      "metadata": {
        "id": "JDN8khxaCXvp"
      },
      "source": [
        "## Open Class Words\n",
        "The evaluation is done only on open-class words and not to functional words: only the tokens having a PoS-tag comprised in the set ADJ *, ADV, NN, V * had to be lemmatised, in all the other cases the token could be copied unchanged into the lemma column as they were not considered for the evaluation (the asterisk indicates all PoS-tag possibilities beginning with that prefix)."
      ]
    },
    {
      "cell_type": "code",
      "execution_count": 32,
      "metadata": {
        "colab": {
          "base_uri": "https://localhost:8080/"
        },
        "id": "Su-C7kFTCXvp",
        "outputId": "d79dd705-5c69-48f4-8e0e-a579b0c9ad28"
      },
      "outputs": [
        {
          "name": "stdout",
          "output_type": "stream",
          "text": [
            "Number of open class words in dev set:  8045\n",
            "Number of open class words in val set:  421\n",
            "Number of open class words in test set:  65210\n"
          ]
        }
      ],
      "source": [
        "def get_open_class_words(ctx, words, tags, tag, lemmas):\n",
        "    open_class_words = []   # open class words\n",
        "    open_class_ctx = []     # open class context \n",
        "    open_class_tags = []    # open class tags\n",
        "    open_class_tag = []     # open class tag\n",
        "    open_class_lemmas = []  # open class lemmas\n",
        "\n",
        "    open_classes = [\"nn\", \"v_gvrb\", \"v_essere\", \"v_avere\", \"v_pp\", \"v_mod\", \"v_clit\", \"adv\", \"adj_ind\", \"adj_num\", \"adj\", \"adj_pos\", \"adj_dim\", \"adj_ies\"]\n",
        "\n",
        "    for i in range(len(words)):\n",
        "        t = tag[i]\n",
        "        if t in open_classes:\n",
        "            open_class_words.append(words[i])\n",
        "            open_class_ctx.append(ctx[i])\n",
        "            open_class_tags.append(tags[i])\n",
        "            open_class_tag.append(t)\n",
        "            open_class_lemmas.append(lemmas[i])\n",
        "\n",
        "    return open_class_ctx, open_class_words, open_class_tags, open_class_tag, open_class_lemmas\n",
        "\n",
        "\n",
        "test_ctx, test_words, test_tags, test_tag, test_lemmas = get_open_class_words(test_ctx, test_words, test_tags, test_tag, test_lemmas)\n",
        "dev_ctx, dev_words, dev_tags, dev_tag, dev_lemmas = get_open_class_words(dev_ctx, dev_words, dev_tags, dev_tag, dev_lemmas)\n",
        "val_ctx, val_words, val_tags, val_tag, val_lemmas = get_open_class_words(val_ctx, val_words, val_tags, val_tag, val_lemmas)\n",
        "\n",
        "print(\"Number of open class words in dev set: \", len(dev_words))\n",
        "print(\"Number of open class words in val set: \", len(val_words)) \n",
        "print(\"Number of open class words in test set: \", len(test_words))  \n",
        "# total 79984"
      ]
    },
    {
      "cell_type": "markdown",
      "metadata": {
        "id": "k4TNe-0-CXvq"
      },
      "source": [
        "## Encoding"
      ]
    },
    {
      "cell_type": "code",
      "execution_count": 7,
      "metadata": {
        "colab": {
          "base_uri": "https://localhost:8080/"
        },
        "id": "BDgvmCucCXvq",
        "outputId": "2eaca1a9-39d5-477e-c725-ee2e5f9ff89a"
      },
      "outputs": [
        {
          "name": "stdout",
          "output_type": "stream",
          "text": [
            "Vocab size:  41\n",
            "Max word length:  25\n",
            "\n",
            "Context: \n",
            " , l' unico espediente a disposizione &egrave; l' appropriato uso di esplosioni nucleari . <POST> <POST> <POST> <POST> <POST> <POST> <POST> <POST> <POST> <POST> <POST> \n",
            " [3, 19, 471, 11863, 10, 580, 13, 19, 4975, 424, 4, 6870, 4664, 6, 2, 2, 2, 2, 2, 2, 2, 2, 2, 2, 2]\n",
            "\n",
            "Tags: \n",
            " ['p_oth', 'art', 'adj', 'nn', 'prep', 'nn', 'v_essere', 'art', 'adj', 'nn', 'prep', 'nn', 'adj', 'p_eos', '<NONE>', '<NONE>', '<NONE>', '<NONE>', '<NONE>', '<NONE>', '<NONE>', '<NONE>', '<NONE>', '<NONE>', '<NONE>'] \n",
            " [5, 4, 6, 2, 3, 2, 13, 4, 6, 2, 3, 2, 6, 14, 1, 1, 1, 1, 1, 1, 1, 1, 1, 1, 1]\n",
            "\n",
            "Words: \n",
            " nucleari \n",
            " [28 35 17 26 19 15 32 23  0  0  0  0  0  0  0  0  0  0  0  0  0  0  0  0\n",
            "  0]\n",
            "\n",
            "Lemma: \n",
            " nucleare \n",
            " [28 35 17 26 19 15 32 19  0  0  0  0  0  0  0  0  0  0  0  0  0  0  0  0\n",
            "  0]\n"
          ]
        }
      ],
      "source": [
        "# word encoder\n",
        "word_tokenizer = Tokenizer(filters=\"\")\n",
        "word_tokenizer.fit_on_texts(dev_ctx + test_ctx + val_ctx)\n",
        "\n",
        "# tag encoder\n",
        "tag_tokenizer = Tokenizer(filters=\"\")\n",
        "tag_tokenizer.fit_on_texts(dev_tags + test_tags + val_tags)\n",
        "\n",
        "# lemma encoder\n",
        "lemma_tokenizer = Tokenizer(filters=\"\")\n",
        "lemma_tokenizer.fit_on_texts(dev_lemmas_s + test_lemmas_s)\n",
        "\n",
        "dev_ctx_e = word_tokenizer.texts_to_sequences(dev_ctx)\n",
        "val_ctx_e = word_tokenizer.texts_to_sequences(val_ctx)\n",
        "test_ctx_e = word_tokenizer.texts_to_sequences(test_ctx)\n",
        "\n",
        "dev_tags_e = tag_tokenizer.texts_to_sequences(dev_tags)\n",
        "val_tags_e = tag_tokenizer.texts_to_sequences(val_tags)\n",
        "test_tags_e = tag_tokenizer.texts_to_sequences(test_tags)\n",
        "\n",
        "\n",
        "# get all unique letter in words\n",
        "characters = set()\n",
        "\n",
        "MAX_WORD_LENGTH = 0\n",
        "\n",
        "for w in dev_words + test_words + dev_lemmas + test_lemmas + val_words + val_lemmas:\n",
        "    MAX_WORD_LENGTH = max(MAX_WORD_LENGTH, len(w))\n",
        "\n",
        "    for letter in w:\n",
        "        characters.add(letter)\n",
        "\n",
        "# add padding and unknown to characters\n",
        "characters.add(\" \")\n",
        "\n",
        "# the length of the vocab for one-hot encoded char\n",
        "VOCAB_SIZE = len(characters)\n",
        "\n",
        "print (\"Vocab size: \", VOCAB_SIZE)\n",
        "print(\"Max word length: \", MAX_WORD_LENGTH)\n",
        "\n",
        "characters = sorted(list(characters))\n",
        "\n",
        "char2idx = {char: idx for idx, char in enumerate(characters)}\n",
        "idx2char = {idx: char for idx, char in enumerate(characters)}\n",
        "\n",
        "def encode_words(words):\n",
        "    encoded_words = []\n",
        "    for word in words:\n",
        "        word_e = []\n",
        "        for letter in word:\n",
        "            word_e.append(characters.index(letter))\n",
        "        encoded_words.append(word_e)\n",
        "    return encoded_words\n",
        "\n",
        "dev_words_e = encode_words(dev_words)\n",
        "test_words_e = encode_words(test_words)\n",
        "val_words_e = encode_words(val_words)\n",
        "\n",
        "dev_lemmas_e = encode_words(dev_lemmas)\n",
        "test_lemmas_e = encode_words(test_lemmas)\n",
        "val_lemmas_e = encode_words(val_lemmas)\n",
        "\n",
        "dev_words_e = tf.keras.preprocessing.sequence.pad_sequences(dev_words_e, maxlen=MAX_WORD_LENGTH, padding=\"post\")\n",
        "test_words_e = tf.keras.preprocessing.sequence.pad_sequences(test_words_e, maxlen=MAX_WORD_LENGTH, padding=\"post\")\n",
        "val_words_e = tf.keras.preprocessing.sequence.pad_sequences(val_words_e, maxlen=MAX_WORD_LENGTH, padding=\"post\")\n",
        "\n",
        "dev_lemmas_e = tf.keras.preprocessing.sequence.pad_sequences(dev_lemmas_e, maxlen=MAX_WORD_LENGTH, padding=\"post\")\n",
        "test_lemmas_e = tf.keras.preprocessing.sequence.pad_sequences(test_lemmas_e, maxlen=MAX_WORD_LENGTH, padding=\"post\")\n",
        "val_lemmas_e = tf.keras.preprocessing.sequence.pad_sequences(val_lemmas_e, maxlen=MAX_WORD_LENGTH, padding=\"post\")\n",
        "\n",
        "index = np.random.randint(0, len(dev_ctx))\n",
        "print(\"\\nContext: \\n\", dev_ctx[index], \"\\n\", dev_ctx_e[index])\n",
        "print(\"\\nTags: \\n\", dev_tags[index], \"\\n\", dev_tags_e[index])\n",
        "print(\"\\nWords: \\n\", dev_words[index], \"\\n\", dev_words_e[index])\n",
        "print(\"\\nLemma: \\n\", dev_lemmas[index], \"\\n\", dev_lemmas_e[index])\n"
      ]
    },
    {
      "cell_type": "code",
      "execution_count": 8,
      "metadata": {
        "id": "pXlZTReRCXvq"
      },
      "outputs": [],
      "source": [
        "# one hot encode the characters for the lemmas\n",
        "dev_lemmas_e = tf.one_hot(dev_lemmas_e, VOCAB_SIZE)\n",
        "test_lemmas_e = tf.one_hot(test_lemmas_e, VOCAB_SIZE)\n",
        "val_lemmas_e = tf.one_hot(val_lemmas_e, VOCAB_SIZE)"
      ]
    },
    {
      "cell_type": "code",
      "execution_count": 9,
      "metadata": {
        "colab": {
          "base_uri": "https://localhost:8080/"
        },
        "id": "vtsh2qnGCXvs",
        "outputId": "38d99e8a-611b-452c-82c9-813b095fe05a"
      },
      "outputs": [
        {
          "name": "stdout",
          "output_type": "stream",
          "text": [
            "Train shape\n",
            "Context shape:  (8045, 25)\n",
            "Words shape:  (8045, 25)\n",
            "Tags shape:  (8045, 25)\n",
            "Lemmas shape:  (8045, 25, 41)\n",
            "\n",
            "Test shape\n",
            "Context shape:  (65210, 25)\n",
            "Words shape:  (65210, 25)\n",
            "Tags shape:  (65210, 25)\n",
            "Lemmas shape:  (65210, 25, 41)\n"
          ]
        }
      ],
      "source": [
        "# trnasform to numpy array\n",
        "dev_ctx_e = np.array(dev_ctx_e)\n",
        "dev_words_e = np.array(dev_words_e)\n",
        "dev_tags_e = np.array(dev_tags_e)\n",
        "dev_lemmas_e = np.array(dev_lemmas_e)\n",
        "\n",
        "test_ctx_e = np.array(test_ctx_e)\n",
        "test_words_e = np.array(test_words_e)\n",
        "test_tags_e = np.array(test_tags_e)\n",
        "test_lemmas_e = np.array(test_lemmas_e)\n",
        "\n",
        "val_ctx_e = np.array(val_ctx_e)\n",
        "val_words_e = np.array(val_words_e)\n",
        "val_tags_e = np.array(val_tags_e)\n",
        "val_lemmas_e = np.array(val_lemmas_e)\n",
        "\n",
        "print(\"Train shape\")\n",
        "print(\"Context shape: \", dev_ctx_e.shape)\n",
        "print(\"Words shape: \", dev_words_e.shape)\n",
        "print(\"Tags shape: \", dev_tags_e.shape)\n",
        "print(\"Lemmas shape: \", dev_lemmas_e.shape)\n",
        "\n",
        "print(\"\\nTest shape\")\n",
        "print(\"Context shape: \", test_ctx_e.shape)\n",
        "print(\"Words shape: \", test_words_e.shape)\n",
        "print(\"Tags shape: \", test_tags_e.shape)\n",
        "print(\"Lemmas shape: \", test_lemmas_e.shape)"
      ]
    },
    {
      "cell_type": "markdown",
      "metadata": {
        "id": "nLAyRU0RCXvs"
      },
      "source": [
        "## Model"
      ]
    },
    {
      "cell_type": "markdown",
      "metadata": {
        "id": "Xj8391mwCXvs"
      },
      "source": [
        "### Lemmatization Accuracy"
      ]
    },
    {
      "cell_type": "code",
      "execution_count": 10,
      "metadata": {
        "id": "2YpdToIbCXvs"
      },
      "outputs": [],
      "source": [
        "def accuracy(y_true, y_pred):\n",
        "    y_true = tf.argmax(y_true, axis=-1)\n",
        "    y_pred = tf.argmax(y_pred, axis=-1)\n",
        "    correct_predictions = tf.reduce_all(tf.equal(y_true, y_pred), axis=-1)\n",
        "    accuracy = tf.reduce_mean(tf.cast(correct_predictions, tf.float32))\n",
        "    return accuracy\n"
      ]
    },
    {
      "cell_type": "markdown",
      "metadata": {
        "id": "QqY9BzpyCXvv"
      },
      "source": [
        "### Word2Vec"
      ]
    },
    {
      "cell_type": "code",
      "execution_count": 11,
      "metadata": {
        "colab": {
          "base_uri": "https://localhost:8080/"
        },
        "id": "wY0OBxc2CXvv",
        "outputId": "d77667c2-cd2a-4c06-d585-38aae1a162af"
      },
      "outputs": [
        {
          "name": "stderr",
          "output_type": "stream",
          "text": [
            "WARNING:gensim.models.word2vec:Each 'sentences' item should be a list of words (usually unicode strings). First item here is instead plain <class 'str'>.\n"
          ]
        }
      ],
      "source": [
        "EMBEDDING_DIM = 384\n",
        "VOCABULARY_SIZE = len(word_tokenizer.word_index) + 1\n",
        "\n",
        "def get_word2vec_weights(DIM):\n",
        "    # train word2vec model\n",
        "    word2vec = gensim.models.Word2Vec(dev_words + test_words_s, size=DIM, window=10, min_count=1, workers=8)\n",
        "\n",
        "    # create an empty embedding matix\n",
        "    embedding_weights = np.zeros((VOCABULARY_SIZE, DIM))\n",
        "\n",
        "    # create a word to index dictionary mapping\n",
        "    word2id = word_tokenizer.word_index\n",
        "\n",
        "    # copy vectors from word2vec model to the words present in corpus\n",
        "    for word, index in word2id.items():\n",
        "        try:\n",
        "            embedding_weights[index, :] = word2vec.wv[word]\n",
        "        except KeyError:\n",
        "            pass\n",
        "\n",
        "    return embedding_weights\n",
        "\n",
        "embedding_weights = get_word2vec_weights(EMBEDDING_DIM)"
      ]
    },
    {
      "cell_type": "code",
      "execution_count": 23,
      "metadata": {
        "colab": {
          "base_uri": "https://localhost:8080/"
        },
        "id": "flAnhFU9CXvv",
        "outputId": "c6c89d3e-b656-4ed7-c87e-e2f74ad6fcfa"
      },
      "outputs": [
        {
          "name": "stdout",
          "output_type": "stream",
          "text": [
            "Model: \"model_4\"\n",
            "__________________________________________________________________________________________________\n",
            " Layer (type)                   Output Shape         Param #     Connected to                     \n",
            "==================================================================================================\n",
            " input_14 (InputLayer)          [(None, 25)]         0           []                               \n",
            "                                                                                                  \n",
            " input_13 (InputLayer)          [(None, 25)]         0           []                               \n",
            "                                                                                                  \n",
            " tags_embedding (Embedding)     (None, 25, 64)       2176        ['input_14[0][0]']               \n",
            "                                                                                                  \n",
            " context_embedding (Embedding)  (None, 25, 384)      7593216     ['input_13[0][0]']               \n",
            "                                                                                                  \n",
            " bidirectional_13 (Bidirectiona  (None, 25, 128)     66048       ['tags_embedding[1][0]']         \n",
            " l)                                                                                               \n",
            "                                                                                                  \n",
            " input_15 (InputLayer)          [(None, 25)]         0           []                               \n",
            "                                                                                                  \n",
            " bidirectional_12 (Bidirectiona  (None, 25, 768)     2362368     ['context_embedding[1][0]']      \n",
            " l)                                                                                               \n",
            "                                                                                                  \n",
            " time_distributed_20 (TimeDistr  (None, 25, 768)     99072       ['bidirectional_13[1][0]']       \n",
            " ibuted)                                                                                          \n",
            "                                                                                                  \n",
            " words_embedding (Embedding)    (None, 25, 64)       2624        ['input_15[0][0]']               \n",
            "                                                                                                  \n",
            " attention (Attention)          (None, 25, 768)      0           ['bidirectional_12[1][0]',       \n",
            "                                                                  'time_distributed_20[1][0]']    \n",
            "                                                                                                  \n",
            " bidirectional_14 (Bidirectiona  (None, 25, 768)     1379328     ['words_embedding[1][0]']        \n",
            " l)                                                                                               \n",
            "                                                                                                  \n",
            " concatenate_3 (Concatenate)    (None, 25, 1536)     0           ['attention[1][0]',              \n",
            "                                                                  'bidirectional_14[1][0]']       \n",
            "                                                                                                  \n",
            " lstm (Bidirectional)           (None, 25, 768)      5901312     ['concatenate_3[1][0]']          \n",
            "                                                                                                  \n",
            " dropout_13 (Dropout)           (None, 25, 768)      0           ['lstm[1][0]']                   \n",
            "                                                                                                  \n",
            " lstm2 (Bidirectional)          (None, 25, 768)      3542016     ['dropout_13[1][0]']             \n",
            "                                                                                                  \n",
            " time_distributed_21 (TimeDistr  (None, 25, 384)     295296      ['lstm2[1][0]']                  \n",
            " ibuted)                                                                                          \n",
            "                                                                                                  \n",
            " dropout_14 (Dropout)           (None, 25, 384)      0           ['time_distributed_21[1][0]']    \n",
            "                                                                                                  \n",
            " time_distributed_22 (TimeDistr  (None, 25, 384)     147840      ['dropout_14[1][0]']             \n",
            " ibuted)                                                                                          \n",
            "                                                                                                  \n",
            " dropout_15 (Dropout)           (None, 25, 384)      0           ['time_distributed_22[1][0]']    \n",
            "                                                                                                  \n",
            " time_distributed_23 (TimeDistr  (None, 25, 384)     147840      ['dropout_15[1][0]']             \n",
            " ibuted)                                                                                          \n",
            "                                                                                                  \n",
            " dropout_16 (Dropout)           (None, 25, 384)      0           ['time_distributed_23[1][0]']    \n",
            "                                                                                                  \n",
            " time_distributed_24 (TimeDistr  (None, 25, 384)     147840      ['dropout_16[1][0]']             \n",
            " ibuted)                                                                                          \n",
            "                                                                                                  \n",
            " output (TimeDistributed)       (None, 25, 41)       15785       ['time_distributed_24[1][0]']    \n",
            "                                                                                                  \n",
            "==================================================================================================\n",
            "Total params: 21,702,761\n",
            "Trainable params: 14,109,545\n",
            "Non-trainable params: 7,593,216\n",
            "__________________________________________________________________________________________________\n"
          ]
        }
      ],
      "source": [
        "# Neural network model\n",
        "# inputs:\n",
        "#   - context: (batch_size, CTX_DIM * 2) \n",
        "#   - tags: encoded tags: (batch_size, MAX_WORD_LENGTH)\n",
        "#   - words: encoded words: (batch_size, MAX_WORD_LENGTH)\n",
        "# outputs:\n",
        "#  - lemma: encoded lemma: (batch_size, MAX_WORD_LENGTH)\n",
        "\n",
        "def get_model():\n",
        "    # context\n",
        "    context_input = Input(shape=(CTX_DIM * 2 + 1,), name=\"context_input\")\n",
        "    context_input = Masking(mask_value=1)(context_input)\n",
        "    context_input = Masking(mask_value=2)(context_input)\n",
        "    context_embedding = Embedding(len(word_tokenizer.word_index) + 1, EMBEDDING_DIM, input_length=CTX_DIM * 2 + 1,name=\"context_embedding\", trainable=False, weights=[embedding_weights])(context_input)\n",
        "    context_embedding = Bidirectional(LSTM(EMBEDDING_DIM, return_sequences=True))(context_embedding)\n",
        "\n",
        "    # tags\n",
        "    tags_input = Input(shape=(CTX_DIM * 2 + 1,), name=\"tags_input\")\n",
        "    tags_input = Masking(mask_value=1)(tags_input)\n",
        "    tags_embedding = Embedding(len(tag_tokenizer.word_index) + 1, 64, input_length=CTX_DIM * 2 + 1, name=\"tags_embedding\", trainable=True)(tags_input)\n",
        "    tags_embedding = Bidirectional(LSTM(64, return_sequences=True))(tags_embedding)\n",
        "    tags_embedding = TimeDistributed(Dense(EMBEDDING_DIM*2))(tags_embedding)\n",
        "    \n",
        "    # words\n",
        "    words_input = Input(shape=(MAX_WORD_LENGTH,), name=\"words_input\")\n",
        "    words_input = Masking(mask_value=0)(words_input)\n",
        "    words_embedding = Embedding(VOCAB_SIZE, 64, input_length=MAX_WORD_LENGTH, name=\"words_embedding\", trainable=True)(words_input)\n",
        "    words_embedding = Bidirectional(LSTM(EMBEDDING_DIM, return_sequences=True))(words_embedding)\n",
        "\n",
        "    # combine\n",
        "    attention = Attention(name=\"attention\")([context_embedding, tags_embedding])\n",
        "    combine = Concatenate(axis=-1)([attention, words_embedding])\n",
        "    \n",
        "    lstm = Bidirectional(LSTM(EMBEDDING_DIM, return_sequences=True), name=\"lstm\")(combine)\n",
        "    lstm = Dropout(0.5)(lstm)\n",
        "    lstm = Bidirectional(LSTM(EMBEDDING_DIM, return_sequences=True), name=\"lstm2\")(lstm)\n",
        "\n",
        "    dense = TimeDistributed(Dense(EMBEDDING_DIM, activation=\"relu\", name=\"dense\"))(lstm)\n",
        "    dense = Dropout(0.3)(dense)\n",
        "    dense = TimeDistributed(Dense(EMBEDDING_DIM, activation=\"relu\", name=\"dense\"))(dense)\n",
        "    dense = Dropout(0.2)(dense)\n",
        "    dense = TimeDistributed(Dense(EMBEDDING_DIM, activation=\"relu\", name=\"dense\"))(dense)\n",
        "    dense = Dropout(0.2)(dense)\n",
        "    dense = TimeDistributed(Dense(EMBEDDING_DIM, activation=\"relu\", name=\"dense\"))(dense)\n",
        "\n",
        "    output = TimeDistributed(Dense(VOCAB_SIZE, activation=\"softmax\"), name=\"output\")(dense)\n",
        "    return Model(inputs=[context_input, tags_input, words_input], outputs=[output])\n",
        "\n",
        "model = get_model()\n",
        "model.summary()\n"
      ]
    },
    {
      "cell_type": "markdown",
      "metadata": {
        "id": "SPzq5zAJCXvx"
      },
      "source": [
        "### Training"
      ]
    },
    {
      "cell_type": "code",
      "execution_count": 24,
      "metadata": {
        "colab": {
          "base_uri": "https://localhost:8080/"
        },
        "id": "PGNU9pxyCXvx",
        "outputId": "75282844-b685-4c58-ae3a-833ff299b204"
      },
      "outputs": [
        {
          "name": "stdout",
          "output_type": "stream",
          "text": [
            "Epoch 1/100\n",
            "126/126 [==============================] - 22s 60ms/step - loss: 0.9230 - accuracy: 0.0000e+00 - val_loss: 0.7636 - val_accuracy: 0.0000e+00\n",
            "Epoch 2/100\n",
            "126/126 [==============================] - 4s 33ms/step - loss: 0.7551 - accuracy: 1.2401e-04 - val_loss: 0.6514 - val_accuracy: 0.0000e+00\n",
            "Epoch 3/100\n",
            "126/126 [==============================] - 4s 34ms/step - loss: 0.3790 - accuracy: 0.1494 - val_loss: 0.1870 - val_accuracy: 0.4879\n",
            "Epoch 4/100\n",
            "126/126 [==============================] - 4s 33ms/step - loss: 0.1785 - accuracy: 0.4536 - val_loss: 0.1523 - val_accuracy: 0.5381\n",
            "Epoch 5/100\n",
            "126/126 [==============================] - 4s 34ms/step - loss: 0.1458 - accuracy: 0.5085 - val_loss: 0.1252 - val_accuracy: 0.5614\n",
            "Epoch 6/100\n",
            "126/126 [==============================] - 4s 33ms/step - loss: 0.1266 - accuracy: 0.5226 - val_loss: 0.1058 - val_accuracy: 0.5799\n",
            "Epoch 7/100\n",
            "126/126 [==============================] - 4s 33ms/step - loss: 0.1007 - accuracy: 0.5782 - val_loss: 0.0911 - val_accuracy: 0.6284\n",
            "Epoch 8/100\n",
            "126/126 [==============================] - 4s 34ms/step - loss: 0.0768 - accuracy: 0.6501 - val_loss: 0.0637 - val_accuracy: 0.7080\n",
            "Epoch 9/100\n",
            "126/126 [==============================] - 4s 33ms/step - loss: 0.0632 - accuracy: 0.6990 - val_loss: 0.0620 - val_accuracy: 0.7057\n",
            "Epoch 10/100\n",
            "126/126 [==============================] - 4s 33ms/step - loss: 0.0529 - accuracy: 0.7464 - val_loss: 0.0575 - val_accuracy: 0.7420\n",
            "Epoch 11/100\n",
            "126/126 [==============================] - 4s 34ms/step - loss: 0.0477 - accuracy: 0.7683 - val_loss: 0.0464 - val_accuracy: 0.7944\n",
            "Epoch 12/100\n",
            "126/126 [==============================] - 4s 33ms/step - loss: 0.0392 - accuracy: 0.8049 - val_loss: 0.0424 - val_accuracy: 0.8378\n",
            "Epoch 13/100\n",
            "126/126 [==============================] - 4s 33ms/step - loss: 0.0370 - accuracy: 0.8139 - val_loss: 0.0428 - val_accuracy: 0.8167\n",
            "Epoch 14/100\n",
            "126/126 [==============================] - 4s 34ms/step - loss: 0.0313 - accuracy: 0.8357 - val_loss: 0.0331 - val_accuracy: 0.8407\n",
            "Epoch 15/100\n",
            "126/126 [==============================] - 4s 33ms/step - loss: 0.0278 - accuracy: 0.8457 - val_loss: 0.0359 - val_accuracy: 0.8289\n",
            "Epoch 16/100\n",
            "126/126 [==============================] - 4s 33ms/step - loss: 0.0396 - accuracy: 0.8132 - val_loss: 0.0410 - val_accuracy: 0.8301\n",
            "Epoch 17/100\n",
            "126/126 [==============================] - 4s 34ms/step - loss: 0.0243 - accuracy: 0.8633 - val_loss: 0.0316 - val_accuracy: 0.8774\n",
            "Epoch 18/100\n",
            "126/126 [==============================] - 4s 34ms/step - loss: 0.0197 - accuracy: 0.8829 - val_loss: 0.0263 - val_accuracy: 0.8863\n",
            "Epoch 19/100\n",
            "126/126 [==============================] - 4s 34ms/step - loss: 0.0172 - accuracy: 0.8994 - val_loss: 0.0251 - val_accuracy: 0.8969\n",
            "Epoch 20/100\n",
            "126/126 [==============================] - 4s 33ms/step - loss: 0.0162 - accuracy: 0.9038 - val_loss: 0.0249 - val_accuracy: 0.8953\n",
            "Epoch 21/100\n",
            "126/126 [==============================] - 4s 34ms/step - loss: 0.0158 - accuracy: 0.9092 - val_loss: 0.0278 - val_accuracy: 0.9036\n",
            "Epoch 22/100\n",
            "126/126 [==============================] - 4s 34ms/step - loss: 0.0130 - accuracy: 0.9222 - val_loss: 0.0233 - val_accuracy: 0.9275\n",
            "Epoch 23/100\n",
            "126/126 [==============================] - 4s 33ms/step - loss: 0.0104 - accuracy: 0.9356 - val_loss: 0.0239 - val_accuracy: 0.9215\n",
            "Epoch 24/100\n",
            "126/126 [==============================] - 4s 33ms/step - loss: 0.0107 - accuracy: 0.9347 - val_loss: 0.0218 - val_accuracy: 0.9142\n",
            "Epoch 25/100\n",
            "126/126 [==============================] - 4s 33ms/step - loss: 0.0103 - accuracy: 0.9357 - val_loss: 0.0270 - val_accuracy: 0.9286\n",
            "Epoch 26/100\n",
            "126/126 [==============================] - 4s 33ms/step - loss: 0.0096 - accuracy: 0.9429 - val_loss: 0.0255 - val_accuracy: 0.9231\n",
            "Epoch 27/100\n",
            "126/126 [==============================] - 4s 33ms/step - loss: 0.0090 - accuracy: 0.9446 - val_loss: 0.0262 - val_accuracy: 0.9135\n",
            "Epoch 28/100\n",
            "126/126 [==============================] - 4s 33ms/step - loss: 0.0079 - accuracy: 0.9526 - val_loss: 0.0193 - val_accuracy: 0.9192\n",
            "Epoch 29/100\n",
            "126/126 [==============================] - 4s 33ms/step - loss: 0.0065 - accuracy: 0.9568 - val_loss: 0.0238 - val_accuracy: 0.9420\n",
            "Epoch 30/100\n",
            "126/126 [==============================] - 4s 33ms/step - loss: 0.0176 - accuracy: 0.9254 - val_loss: 0.0288 - val_accuracy: 0.9081\n",
            "Epoch 31/100\n",
            "126/126 [==============================] - 4s 33ms/step - loss: 0.0240 - accuracy: 0.8972 - val_loss: 0.0239 - val_accuracy: 0.9420\n",
            "Epoch 32/100\n",
            "126/126 [==============================] - 4s 33ms/step - loss: 0.0054 - accuracy: 0.9646 - val_loss: 0.0259 - val_accuracy: 0.9275\n",
            "Epoch 33/100\n",
            "126/126 [==============================] - 4s 33ms/step - loss: 0.0048 - accuracy: 0.9703 - val_loss: 0.0249 - val_accuracy: 0.9403\n",
            "Epoch 34/100\n",
            "126/126 [==============================] - 4s 33ms/step - loss: 0.0056 - accuracy: 0.9681 - val_loss: 0.0231 - val_accuracy: 0.9336\n",
            "Epoch 35/100\n",
            "126/126 [==============================] - 4s 33ms/step - loss: 0.0059 - accuracy: 0.9645 - val_loss: 0.0262 - val_accuracy: 0.9314\n",
            "Epoch 36/100\n",
            "126/126 [==============================] - 4s 33ms/step - loss: 0.0035 - accuracy: 0.9770 - val_loss: 0.0287 - val_accuracy: 0.9381\n",
            "Epoch 37/100\n",
            "126/126 [==============================] - 4s 34ms/step - loss: 0.0024 - accuracy: 0.9833 - val_loss: 0.0343 - val_accuracy: 0.9397\n",
            "Epoch 38/100\n",
            "126/126 [==============================] - 4s 34ms/step - loss: 0.0027 - accuracy: 0.9825 - val_loss: 0.0260 - val_accuracy: 0.9509\n",
            "Epoch 39/100\n",
            "126/126 [==============================] - 4s 33ms/step - loss: 0.0034 - accuracy: 0.9803 - val_loss: 0.0245 - val_accuracy: 0.9403\n",
            "Epoch 40/100\n",
            "126/126 [==============================] - 4s 33ms/step - loss: 0.0033 - accuracy: 0.9782 - val_loss: 0.0250 - val_accuracy: 0.9464\n",
            "Epoch 41/100\n",
            "126/126 [==============================] - 4s 34ms/step - loss: 0.0109 - accuracy: 0.9511 - val_loss: 0.0366 - val_accuracy: 0.9018\n",
            "Epoch 42/100\n",
            "126/126 [==============================] - 4s 33ms/step - loss: 0.0051 - accuracy: 0.9715 - val_loss: 0.0329 - val_accuracy: 0.9397\n",
            "Epoch 43/100\n",
            "126/126 [==============================] - 4s 34ms/step - loss: 0.0055 - accuracy: 0.9713 - val_loss: 0.0234 - val_accuracy: 0.9509\n",
            "Epoch 44/100\n",
            "126/126 [==============================] - 4s 34ms/step - loss: 0.0135 - accuracy: 0.9458 - val_loss: 0.0285 - val_accuracy: 0.9231\n",
            "Epoch 45/100\n",
            "126/126 [==============================] - 4s 35ms/step - loss: 0.0051 - accuracy: 0.9742 - val_loss: 0.0261 - val_accuracy: 0.9426\n",
            "Epoch 46/100\n",
            "126/126 [==============================] - 4s 34ms/step - loss: 0.0033 - accuracy: 0.9807 - val_loss: 0.0238 - val_accuracy: 0.9353\n",
            "Epoch 47/100\n",
            "126/126 [==============================] - 4s 33ms/step - loss: 0.0030 - accuracy: 0.9834 - val_loss: 0.0273 - val_accuracy: 0.9448\n",
            "Epoch 48/100\n",
            "126/126 [==============================] - 4s 33ms/step - loss: 0.0019 - accuracy: 0.9891 - val_loss: 0.0302 - val_accuracy: 0.9403\n",
            "Epoch 49/100\n",
            "126/126 [==============================] - 4s 34ms/step - loss: 0.0011 - accuracy: 0.9923 - val_loss: 0.0359 - val_accuracy: 0.9464\n",
            "Epoch 50/100\n",
            "126/126 [==============================] - 4s 33ms/step - loss: 0.0023 - accuracy: 0.9861 - val_loss: 0.0298 - val_accuracy: 0.9554\n",
            "Epoch 51/100\n",
            "126/126 [==============================] - 4s 33ms/step - loss: 0.0043 - accuracy: 0.9756 - val_loss: 0.0225 - val_accuracy: 0.9330\n",
            "Epoch 52/100\n",
            "126/126 [==============================] - 4s 33ms/step - loss: 0.0035 - accuracy: 0.9789 - val_loss: 0.0334 - val_accuracy: 0.9253\n",
            "Epoch 53/100\n",
            "126/126 [==============================] - 4s 33ms/step - loss: 0.0024 - accuracy: 0.9866 - val_loss: 0.0282 - val_accuracy: 0.9509\n",
            "Epoch 54/100\n",
            "126/126 [==============================] - 4s 34ms/step - loss: 0.0018 - accuracy: 0.9882 - val_loss: 0.0362 - val_accuracy: 0.9420\n",
            "Epoch 55/100\n",
            "126/126 [==============================] - 4s 33ms/step - loss: 0.0013 - accuracy: 0.9929 - val_loss: 0.0280 - val_accuracy: 0.9509\n",
            "Epoch 56/100\n",
            "126/126 [==============================] - 4s 33ms/step - loss: 0.0019 - accuracy: 0.9891 - val_loss: 0.0338 - val_accuracy: 0.9464\n",
            "Epoch 57/100\n",
            "126/126 [==============================] - 4s 34ms/step - loss: 0.0016 - accuracy: 0.9912 - val_loss: 0.0362 - val_accuracy: 0.9464\n",
            "Epoch 58/100\n",
            "126/126 [==============================] - 4s 33ms/step - loss: 0.0112 - accuracy: 0.9534 - val_loss: 0.0534 - val_accuracy: 0.8322\n",
            "Epoch 59/100\n",
            "126/126 [==============================] - 4s 33ms/step - loss: 0.0076 - accuracy: 0.9645 - val_loss: 0.0284 - val_accuracy: 0.9531\n",
            "Epoch 60/100\n",
            "126/126 [==============================] - 4s 33ms/step - loss: 0.0018 - accuracy: 0.9909 - val_loss: 0.0243 - val_accuracy: 0.9487\n",
            "Epoch 61/100\n",
            "126/126 [==============================] - 4s 33ms/step - loss: 0.0021 - accuracy: 0.9862 - val_loss: 0.0324 - val_accuracy: 0.9509\n",
            "Epoch 62/100\n",
            "126/126 [==============================] - 4s 34ms/step - loss: 0.0030 - accuracy: 0.9834 - val_loss: 0.0250 - val_accuracy: 0.9576\n",
            "Epoch 63/100\n",
            "126/126 [==============================] - 4s 33ms/step - loss: 0.0019 - accuracy: 0.9887 - val_loss: 0.0289 - val_accuracy: 0.9515\n",
            "Epoch 64/100\n",
            "126/126 [==============================] - 4s 33ms/step - loss: 0.0021 - accuracy: 0.9849 - val_loss: 0.0325 - val_accuracy: 0.9470\n",
            "Epoch 65/100\n",
            "126/126 [==============================] - 4s 33ms/step - loss: 0.0020 - accuracy: 0.9903 - val_loss: 0.0313 - val_accuracy: 0.9509\n",
            "Epoch 66/100\n",
            "126/126 [==============================] - 4s 33ms/step - loss: 0.0034 - accuracy: 0.9831 - val_loss: 0.0318 - val_accuracy: 0.9353\n",
            "Epoch 67/100\n",
            "126/126 [==============================] - 4s 33ms/step - loss: 0.0018 - accuracy: 0.9901 - val_loss: 0.0385 - val_accuracy: 0.9531\n",
            "Epoch 68/100\n",
            "126/126 [==============================] - 4s 34ms/step - loss: 0.0038 - accuracy: 0.9787 - val_loss: 0.0380 - val_accuracy: 0.9426\n",
            "Epoch 69/100\n",
            "126/126 [==============================] - 4s 33ms/step - loss: 0.0022 - accuracy: 0.9866 - val_loss: 0.0379 - val_accuracy: 0.9487\n",
            "Epoch 70/100\n",
            "126/126 [==============================] - 4s 33ms/step - loss: 0.0033 - accuracy: 0.9820 - val_loss: 0.0379 - val_accuracy: 0.9432\n",
            "Epoch 71/100\n",
            "126/126 [==============================] - 4s 34ms/step - loss: 0.0015 - accuracy: 0.9911 - val_loss: 0.0373 - val_accuracy: 0.9531\n",
            "Epoch 72/100\n",
            "126/126 [==============================] - 4s 33ms/step - loss: 7.9648e-04 - accuracy: 0.9947 - val_loss: 0.0381 - val_accuracy: 0.9598\n",
            "Epoch 73/100\n",
            "126/126 [==============================] - 4s 33ms/step - loss: 0.0011 - accuracy: 0.9945 - val_loss: 0.0354 - val_accuracy: 0.9531\n",
            "Epoch 74/100\n",
            "126/126 [==============================] - 4s 34ms/step - loss: 9.5196e-04 - accuracy: 0.9939 - val_loss: 0.0334 - val_accuracy: 0.9643\n",
            "Epoch 75/100\n",
            "126/126 [==============================] - 4s 33ms/step - loss: 0.0150 - accuracy: 0.9497 - val_loss: 0.0249 - val_accuracy: 0.9576\n",
            "Epoch 76/100\n",
            "126/126 [==============================] - 4s 34ms/step - loss: 0.0057 - accuracy: 0.9792 - val_loss: 0.0273 - val_accuracy: 0.9442\n",
            "Epoch 77/100\n",
            "126/126 [==============================] - 4s 33ms/step - loss: 0.0078 - accuracy: 0.9655 - val_loss: 0.0299 - val_accuracy: 0.9442\n",
            "Epoch 78/100\n",
            "126/126 [==============================] - 4s 33ms/step - loss: 0.0016 - accuracy: 0.9906 - val_loss: 0.0332 - val_accuracy: 0.9509\n",
            "Epoch 79/100\n",
            "126/126 [==============================] - 4s 33ms/step - loss: 0.0010 - accuracy: 0.9941 - val_loss: 0.0319 - val_accuracy: 0.9576\n",
            "Epoch 80/100\n",
            "126/126 [==============================] - 4s 33ms/step - loss: 7.4246e-04 - accuracy: 0.9959 - val_loss: 0.0315 - val_accuracy: 0.9576\n",
            "Epoch 81/100\n",
            "126/126 [==============================] - 4s 33ms/step - loss: 3.8080e-04 - accuracy: 0.9980 - val_loss: 0.0417 - val_accuracy: 0.9576\n",
            "Epoch 82/100\n",
            "126/126 [==============================] - 4s 33ms/step - loss: 0.0012 - accuracy: 0.9939 - val_loss: 0.0355 - val_accuracy: 0.9464\n",
            "Epoch 83/100\n",
            "126/126 [==============================] - 4s 33ms/step - loss: 0.0025 - accuracy: 0.9895 - val_loss: 0.0290 - val_accuracy: 0.9643\n",
            "Epoch 84/100\n",
            "126/126 [==============================] - 4s 33ms/step - loss: 0.0020 - accuracy: 0.9887 - val_loss: 0.0312 - val_accuracy: 0.9531\n",
            "Epoch 85/100\n",
            "126/126 [==============================] - 4s 33ms/step - loss: 0.0017 - accuracy: 0.9914 - val_loss: 0.0319 - val_accuracy: 0.9560\n",
            "Epoch 86/100\n",
            "126/126 [==============================] - 4s 33ms/step - loss: 0.0013 - accuracy: 0.9923 - val_loss: 0.0365 - val_accuracy: 0.9509\n",
            "Epoch 87/100\n",
            "126/126 [==============================] - 4s 33ms/step - loss: 0.0018 - accuracy: 0.9898 - val_loss: 0.0342 - val_accuracy: 0.9576\n",
            "Epoch 88/100\n",
            "126/126 [==============================] - 4s 33ms/step - loss: 0.0069 - accuracy: 0.9694 - val_loss: 0.0515 - val_accuracy: 0.9081\n",
            "Epoch 89/100\n",
            "126/126 [==============================] - 4s 33ms/step - loss: 0.0086 - accuracy: 0.9670 - val_loss: 0.0373 - val_accuracy: 0.9487\n",
            "Epoch 90/100\n",
            "126/126 [==============================] - 4s 34ms/step - loss: 0.0015 - accuracy: 0.9915 - val_loss: 0.0378 - val_accuracy: 0.9448\n",
            "Epoch 91/100\n",
            "126/126 [==============================] - 4s 33ms/step - loss: 0.0013 - accuracy: 0.9924 - val_loss: 0.0292 - val_accuracy: 0.9420\n",
            "Epoch 92/100\n",
            "126/126 [==============================] - 4s 34ms/step - loss: 0.0011 - accuracy: 0.9944 - val_loss: 0.0343 - val_accuracy: 0.9554\n",
            "Epoch 93/100\n",
            "126/126 [==============================] - 4s 34ms/step - loss: 0.0017 - accuracy: 0.9908 - val_loss: 0.0352 - val_accuracy: 0.9509\n",
            "Epoch 94/100\n",
            "126/126 [==============================] - 4s 33ms/step - loss: 0.0012 - accuracy: 0.9933 - val_loss: 0.0320 - val_accuracy: 0.9531\n",
            "Epoch 95/100\n",
            "126/126 [==============================] - 4s 34ms/step - loss: 0.0014 - accuracy: 0.9914 - val_loss: 0.0345 - val_accuracy: 0.9509\n",
            "Epoch 96/100\n",
            "126/126 [==============================] - 4s 33ms/step - loss: 0.0014 - accuracy: 0.9913 - val_loss: 0.0293 - val_accuracy: 0.9464\n",
            "Epoch 97/100\n",
            "126/126 [==============================] - 4s 33ms/step - loss: 0.0011 - accuracy: 0.9936 - val_loss: 0.0339 - val_accuracy: 0.9576\n",
            "Epoch 98/100\n",
            "126/126 [==============================] - 4s 34ms/step - loss: 0.0012 - accuracy: 0.9937 - val_loss: 0.0366 - val_accuracy: 0.9576\n",
            "Epoch 99/100\n",
            "126/126 [==============================] - 4s 33ms/step - loss: 0.0014 - accuracy: 0.9911 - val_loss: 0.0366 - val_accuracy: 0.9509\n"
          ]
        }
      ],
      "source": [
        "early_stopping = EarlyStopping(monitor=\"val_accuracy\", patience=25, restore_best_weights=True)\n",
        "\n",
        "\n",
        "model.compile(loss=\"categorical_crossentropy\", optimizer=\"adam\", metrics=[accuracy])\n",
        "\n",
        "# train model\n",
        "history = model.fit([dev_ctx_e, dev_tags_e, dev_words_e], dev_lemmas_e, epochs=100, batch_size=64, validation_data=([val_ctx_e, val_tags_e, val_words_e], val_lemmas_e), callbacks=[early_stopping])"
      ]
    },
    {
      "cell_type": "markdown",
      "metadata": {
        "id": "P7AMK_4pCXvx"
      },
      "source": [
        "## Evaluation"
      ]
    },
    {
      "cell_type": "code",
      "execution_count": 26,
      "metadata": {
        "colab": {
          "base_uri": "https://localhost:8080/"
        },
        "id": "oR3saAaeCXvy",
        "outputId": "bdb3e0cf-c7ee-48ed-d976-c9b6cf77c83c"
      },
      "outputs": [
        {
          "name": "stdout",
          "output_type": "stream",
          "text": [
            "2038/2038 [==============================] - 25s 12ms/step - loss: 0.0323 - accuracy: 0.9507\n",
            "Test loss:  0.0322524830698967\n",
            "Test accuracy:  0.9507447481155396\n"
          ]
        }
      ],
      "source": [
        "# evaluate model\n",
        "result = model.evaluate([test_ctx_e, test_tags_e, test_words_e], test_lemmas_e)\n",
        "print(\"Test loss: \", result[0])\n",
        "print(\"Test accuracy: \", result[1])"
      ]
    },
    {
      "cell_type": "code",
      "execution_count": 33,
      "metadata": {
        "colab": {
          "base_uri": "https://localhost:8080/"
        },
        "id": "nz_GK7n-M8u8",
        "outputId": "89a20925-ebba-4527-d585-d0d800ed2b42"
      },
      "outputs": [
        {
          "name": "stdout",
          "output_type": "stream",
          "text": [
            "2038/2038 [==============================] - 28s 12ms/step\n",
            "Absolute error with respect to the PoS tag: \n",
            "v 0.531\n",
            "adj 0.128\n",
            "nn 0.297\n",
            "adv 0.045\n",
            "\n",
            "Relative error with respect to the PoS tag: \n",
            "v 0.083\n",
            "adj 0.031\n",
            "nn 0.034\n",
            "adv 0.02\n"
          ]
        }
      ],
      "source": [
        "# Absolute error with respect to the PoS tag\n",
        "\n",
        "pred = model.predict([test_ctx_e, test_tags_e, test_words_e])\n",
        "\n",
        "tot_error = 0\n",
        "error_per_tag = {}\n",
        "tag_count = {}\n",
        "\n",
        "for i in range(len(test_lemmas_e)): \n",
        "    tag = test_tag[i].split(\"_\")[0]\n",
        "\n",
        "    if tag not in tag_count:\n",
        "            tag_count[tag] = 1\n",
        "    else:\n",
        "        tag_count[tag] += 1\n",
        "\n",
        "    if test_lemmas_e[i].argmax() != pred[i].argmax():\n",
        "        tot_error += 1\n",
        "        \n",
        "        if tag not in error_per_tag:\n",
        "            error_per_tag[tag] = 1\n",
        "        else:\n",
        "            error_per_tag[tag] += 1\n",
        "\n",
        "print(\"Absolute error with respect to the PoS tag: \")\n",
        "for tag in error_per_tag:\n",
        "    print(tag, round(error_per_tag[tag] / tot_error,3))\n",
        "\n",
        "print(\"\\nRelative error with respect to the PoS tag: \")\n",
        "for tag in error_per_tag:\n",
        "    print(tag, round(error_per_tag[tag] / tag_count[tag], 3))"
      ]
    }
  ],
  "metadata": {
    "accelerator": "GPU",
    "colab": {
      "provenance": []
    },
    "gpuClass": "premium",
    "kernelspec": {
      "display_name": "ml",
      "language": "python",
      "name": "python3"
    },
    "language_info": {
      "codemirror_mode": {
        "name": "ipython",
        "version": 3
      },
      "file_extension": ".py",
      "mimetype": "text/x-python",
      "name": "python",
      "nbconvert_exporter": "python",
      "pygments_lexer": "ipython3",
      "version": "3.10.8"
    },
    "orig_nbformat": 4,
    "vscode": {
      "interpreter": {
        "hash": "08eac26dc1f80337b7d87e94e7159a5bad95c2e85f47efef91c61359b3afbfe9"
      }
    }
  },
  "nbformat": 4,
  "nbformat_minor": 0
}
