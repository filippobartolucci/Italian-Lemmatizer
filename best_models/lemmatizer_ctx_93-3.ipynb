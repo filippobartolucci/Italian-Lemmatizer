{
  "cells": [
    {
      "cell_type": "markdown",
      "metadata": {
        "id": "zlXK_WPhCXve"
      },
      "source": [
        "# Italian Word Lemmatizer"
      ]
    },
    {
      "cell_type": "markdown",
      "metadata": {
        "id": "LfFQpeq7CXvj"
      },
      "source": [
        "### Import\n"
      ]
    },
    {
      "cell_type": "code",
      "execution_count": 44,
      "metadata": {
        "id": "1m3hfyemCXvj"
      },
      "outputs": [],
      "source": [
        "import seaborn as sns\n",
        "import matplotlib.pyplot as plt\n",
        "from keras import backend as K\n",
        "from keras.layers import Input, LSTM, Dense, Embedding, Concatenate, Bidirectional, TimeDistributed, RepeatVector, Activation, Dot, Lambda, Dropout, Add, Multiply, Masking, Attention\n",
        "from keras.models import Model\n",
        "from keras.preprocessing.text import Tokenizer\n",
        "from sklearn.model_selection import train_test_split\n",
        "from sklearn.preprocessing import OneHotEncoder\n",
        "from keras.callbacks import EarlyStopping, ReduceLROnPlateau\n",
        "from sklearn.model_selection import train_test_split\n",
        "import numpy as np\n",
        "import gensim\n",
        "import tensorflow as tf\n",
        "import pandas as pd\n",
        "import datetime\n",
        "import os\n",
        "os.environ['TF_CPP_MIN_LOG_LEVEL'] = '3'\n",
        "\n",
        "# set all random seeds\n",
        "np.random.seed(42)\n",
        "tf.random.set_seed(42)\n"
      ]
    },
    {
      "cell_type": "markdown",
      "metadata": {
        "id": "ZEeIQWgECXvk"
      },
      "source": [
        "## Dataset"
      ]
    },
    {
      "cell_type": "code",
      "execution_count": 45,
      "metadata": {
        "colab": {
          "base_uri": "https://localhost:8080/"
        },
        "id": "JcBN-hJ3CXvl",
        "outputId": "c89037c5-fa97-4a4e-c929-431b88774f0e"
      },
      "outputs": [
        {
          "name": "stderr",
          "output_type": "stream",
          "text": [
            "<ipython-input-45-75ad934a2086>:23: SettingWithCopyWarning: \n",
            "A value is trying to be set on a copy of a slice from a DataFrame.\n",
            "Try using .loc[row_indexer,col_indexer] = value instead\n",
            "\n",
            "See the caveats in the documentation: https://pandas.pydata.org/pandas-docs/stable/user_guide/indexing.html#returning-a-view-versus-a-copy\n",
            "  df_test[\"word\"] = df_test[\"word\"].str.lower()\n",
            "<ipython-input-45-75ad934a2086>:24: SettingWithCopyWarning: \n",
            "A value is trying to be set on a copy of a slice from a DataFrame.\n",
            "Try using .loc[row_indexer,col_indexer] = value instead\n",
            "\n",
            "See the caveats in the documentation: https://pandas.pydata.org/pandas-docs/stable/user_guide/indexing.html#returning-a-view-versus-a-copy\n",
            "  df_dev[\"word\"] = df_dev[\"word\"].str.lower()\n"
          ]
        },
        {
          "name": "stdout",
          "output_type": "stream",
          "text": [
            "Max sentence length:  95\n",
            "Max sentence length:  107\n",
            "Number of sentences in dev set:  703\n",
            "Number of sentences in test set:  5596\n",
            "Number of unique tags:  32\n"
          ]
        }
      ],
      "source": [
        "\n",
        "dataset_path = \"./dev.csv\"\n",
        "df_dev = pd.read_csv(dataset_path, sep=\"\\t\", header=None,\n",
        "                     names=[\"word\", \"tag\", \"lemm\"])\n",
        "\n",
        "dataset_path = \"./test.csv\"\n",
        "df_test = pd.read_csv(dataset_path, sep=\"\\t\", header=None,\n",
        "                      names=[\"word\", \"tag\", \"lemm\"])\n",
        "\n",
        "df_dev[\"word\"] = df_dev[\"word\"].astype(str)\n",
        "df_dev[\"tag\"] = df_dev[\"tag\"].astype(str)\n",
        "df_dev[\"lemm\"] = df_dev[\"lemm\"].astype(str)\n",
        "\n",
        "df_test[\"word\"] = df_test[\"word\"].astype(str)\n",
        "df_test[\"tag\"] = df_test[\"tag\"].astype(str)\n",
        "df_test[\"lemm\"] = df_test[\"lemm\"].astype(str)\n",
        "\n",
        "# remove head\n",
        "df_dev = df_dev.iloc[1:]\n",
        "df_test = df_test.iloc[1:]\n",
        "\n",
        "\n",
        "# lower case all words\n",
        "df_test[\"word\"] = df_test[\"word\"].str.lower()\n",
        "df_dev[\"word\"] = df_dev[\"word\"].str.lower()\n",
        "\n",
        "\n",
        "def get_sentences(df):\n",
        "    words = []\n",
        "    tags = []\n",
        "    lemmas = []\n",
        "    sentence = []\n",
        "    max_s = 0\n",
        "    for index, row in df.iterrows():\n",
        "        word = row[\"word\"]\n",
        "        tag = row[\"tag\"]\n",
        "        lemm = row[\"lemm\"]\n",
        "        sentence.append([word, tag, lemm])\n",
        "\n",
        "        if row[\"word\"] in [\".\", \"?\", \"!\", \";\"]:\n",
        "            words.append([word for word, tag, lemm in sentence])\n",
        "            tags.append([tag for word, tag, lemm in sentence])\n",
        "            lemmas.append([lemm for word, tag, lemm in sentence])\n",
        "            max_s = max(max_s, len(sentence))\n",
        "            sentence = []\n",
        "\n",
        "    print(\"Max sentence length: \", max_s)\n",
        "    return words, tags, lemmas\n",
        "\n",
        "# _s is for string\n",
        "dev_words_s, dev_tags_s, dev_lemmas_s = get_sentences(df_dev)\n",
        "test_words_s, test_tags_s, test_lemmas_s = get_sentences(df_test)\n",
        "print(\"Number of sentences in dev set: \", len(dev_words_s))\n",
        "print(\"Number of sentences in test set: \", len(test_words_s))\n",
        "\n",
        "# print number of unique tags\n",
        "print(\"Number of unique tags: \", len(df_dev[\"tag\"].unique()))\n",
        "\n",
        "for i in range(len(dev_words_s)):\n",
        "    if len(dev_words_s[i]) != len(dev_tags_s[i]) or len(dev_words_s[i]) != len(dev_lemmas_s[i]):\n",
        "        print(\"Dimension mismatch in sentence: \", i)\n",
        "        print(\"Words: \", dev_words_s[i])\n",
        "        print(\"Tags: \", dev_tags_s[i])\n",
        "        print(\"Lemmas: \", dev_lemmas_s[i])\n",
        "        break\n",
        "\n"
      ]
    },
    {
      "cell_type": "code",
      "execution_count": 46,
      "metadata": {
        "colab": {
          "base_uri": "https://localhost:8080/",
          "height": 628
        },
        "id": "yJ04hS-bCXvl",
        "outputId": "591611a1-36fa-4844-e809-85c4ac6830d8"
      },
      "outputs": [
        {
          "data": {
            "image/png": "[encoded data removed]",
            "text/plain": [
              "<Figure size 1440x720 with 1 Axes>"
            ]
          },
          "metadata": {
            "needs_background": "light"
          },
          "output_type": "display_data"
        }
      ],
      "source": [
        "# plot tag distribution\n",
        "tags = []\n",
        "for tag_list in dev_tags_s:\n",
        "    tags.extend(tag_list)\n",
        "\n",
        "tags = pd.Series(tags)\n",
        "tags.value_counts().plot(kind=\"bar\", figsize=(20, 10))\n",
        "plt.show()"
      ]
    },
    {
      "cell_type": "markdown",
      "metadata": {
        "id": "QieUyx1CCXvo"
      },
      "source": [
        "## Word Context"
      ]
    },
    {
      "cell_type": "code",
      "execution_count": 47,
      "metadata": {
        "colab": {
          "base_uri": "https://localhost:8080/"
        },
        "id": "l9dkBA-zCXvo",
        "outputId": "bedfb779-a16b-46db-b31c-902991e2a18f"
      },
      "outputs": [
        {
          "name": "stdout",
          "output_type": "stream",
          "text": [
            "Number of sample in dev set:  16447\n",
            "Number of sample in val set:  866\n",
            "Number of sample in test set:  133756\n"
          ]
        }
      ],
      "source": [
        "CTX_DIM = 12            # context dimension, 12 words on each side\n",
        "PRE_VALUE = \"<PRE>\"     # value for padding pre \n",
        "POST_VALUE = \"<POST>\"   # value for padding post\n",
        "NONE_TAG = \"<NONE>\"     # value for padding tags\n",
        "\n",
        "def get_context(words, tags, lemmas):\n",
        "    ctx = []    # context list\n",
        "    w = []      # word list\n",
        "    tag = []    # context tags list\n",
        "    t = []      # word tags list\n",
        "    lemma = []  # lemma list\n",
        "\n",
        "    for s_index in range(len(words)):\n",
        "        s = words[s_index]\n",
        "        s_tags = tags[s_index]\n",
        "        sentence = \" \".join(s)\n",
        "        s = [PRE_VALUE] * CTX_DIM + s + [POST_VALUE] * CTX_DIM\n",
        "        s_tags = [NONE_TAG] * CTX_DIM + s_tags + [NONE_TAG] * CTX_DIM\n",
        "\n",
        "        for w_index in range(len(s)):\n",
        "            if w_index < CTX_DIM or w_index >= len(s) - CTX_DIM:\n",
        "                continue\n",
        "\n",
        "            context = s[w_index - CTX_DIM:w_index] + [s[w_index]] +s[w_index + 1:w_index  + CTX_DIM + 1]\n",
        "            context = \" \".join(context)\n",
        "            ctx.append(context)\n",
        "            w.append(words[s_index][w_index-CTX_DIM])\n",
        "\n",
        "            ctx_tags = s_tags[w_index - CTX_DIM:w_index] + [s_tags[w_index]] + s_tags[w_index + 1:w_index  + CTX_DIM + 1]\n",
        "            tag.append(ctx_tags)\n",
        "            t.append(tags[s_index][w_index-CTX_DIM])\n",
        "\n",
        "            lemma.append(lemmas[s_index][w_index-CTX_DIM])\n",
        "    return ctx, w, tag, t, lemma\n",
        "\n",
        "dev_ctx, dev_words, dev_tags, dev_tag,dev_lemmas = get_context(dev_words_s, dev_tags_s, dev_lemmas_s)\n",
        "test_ctx, test_words, test_tags, test_tag,test_lemmas = get_context(test_words_s, test_tags_s, test_lemmas_s)\n",
        "\n",
        "dev_ctx, val_ctx, dev_words, val_words, dev_tags, val_tags, dev_tag, val_tag, dev_lemmas, val_lemmas = train_test_split(dev_ctx, dev_words, dev_tags, dev_tag, dev_lemmas, test_size=0.05, random_state=42)\n",
        "\n",
        "print(\"Number of sample in dev set: \", len(dev_lemmas))\n",
        "print(\"Number of sample in val set: \", len(val_lemmas))\n",
        "print(\"Number of sample in test set: \", len(test_lemmas))"
      ]
    },
    {
      "cell_type": "markdown",
      "metadata": {
        "id": "XfMwZrgcCXvo"
      },
      "source": [
        "### Example of context"
      ]
    },
    {
      "cell_type": "code",
      "execution_count": 48,
      "metadata": {
        "colab": {
          "base_uri": "https://localhost:8080/"
        },
        "id": "BVoxwHO4CXvp",
        "outputId": "0f020c70-b9ab-4232-ae6e-fe97160fdf31"
      },
      "outputs": [
        {
          "name": "stdout",
          "output_type": "stream",
          "text": [
            "CTX Dim: 12 \n",
            "\n",
            "CTX:  <PRE> ma i blair , con i ragazzi da distrarre , avevano altre idee . <POST> <POST> <POST> <POST> <POST> <POST> <POST> <POST> <POST> <POST>\n",
            "CTX Tags:  ['<NONE>', 'conj_c', 'art', 'nn_p', 'p_oth', 'prep', 'art', 'nn', 'prep', 'v_gvrb', 'p_oth', 'v_avere', 'adj_ind', 'nn', 'p_eos', '<NONE>', '<NONE>', '<NONE>', '<NONE>', '<NONE>', '<NONE>', '<NONE>', '<NONE>', '<NONE>', '<NONE>']\n",
            "Word:  altre\n",
            "Tag:  adj_ind\n",
            "Lemma:  altro\n",
            "\n",
            "CTX:  rigorosamente accademico , corredata da una ricca e del tutto inverosimile bibliografia e arricchita da numerose tavole iconografiche , &egrave; stata recentemente pubblicata anche in\n",
            "CTX Tags:  ['adv', 'adj', 'p_oth', 'v_pp', 'prep', 'art', 'adj', 'conj_c', 'prep_a', 'nn', 'adj', 'nn', 'conj_c', 'v_pp', 'prep', 'adj', 'nn', 'adj', 'p_oth', 'v_essere', 'v_essere', 'adv', 'v_pp', 'conj_c', 'prep']\n",
            "Word:  e\n",
            "Tag:  conj_c\n",
            "Lemma:  e\n",
            "\n",
            "CTX:  * difesa dei diritti dei curdi l' italia porter&agrave; davanti_ai fori internazionali la questione dei diritti del popolo curdo . <POST> <POST> <POST> <POST> <POST>\n",
            "CTX Tags:  ['p_oth', 'nn', 'prep_a', 'nn', 'prep_a', 'nn', 'art', 'nn_p', 'v_gvrb', 'prep_a', 'nn', 'adj', 'art', 'nn', 'prep_a', 'nn', 'prep_a', 'nn', 'adj', 'p_eos', '<NONE>', '<NONE>', '<NONE>', '<NONE>', '<NONE>']\n",
            "Word:  la\n",
            "Tag:  art\n",
            "Lemma:  la\n",
            "\n"
          ]
        }
      ],
      "source": [
        "print(\"CTX Dim:\", CTX_DIM, \"\\n\")\n",
        "for i in range(3):\n",
        "    index = np.random.randint(0, len(dev_ctx))\n",
        "    print(\"CTX: \", dev_ctx[index])\n",
        "    print(\"CTX Tags: \", dev_tags[index])\n",
        "    print(\"Word: \", dev_words[index])\n",
        "    print(\"Tag: \", dev_tag[index])\n",
        "    print(\"Lemma: \", dev_lemmas[index])\n",
        "    print()\n"
      ]
    },
    {
      "cell_type": "markdown",
      "metadata": {
        "id": "JDN8khxaCXvp"
      },
      "source": [
        "## Open Class Words\n",
        "The evaluation is done only on open-class words and not to functional words: only the tokens having a PoS-tag comprised in the set ADJ *, ADV, NN, V * had to be lemmatised, in all the other cases the token could be copied unchanged into the lemma column as they were not considered for the evaluation (the asterisk indicates all PoS-tag possibilities beginning with that prefix)."
      ]
    },
    {
      "cell_type": "code",
      "execution_count": 49,
      "metadata": {
        "colab": {
          "base_uri": "https://localhost:8080/"
        },
        "id": "Su-C7kFTCXvp",
        "outputId": "236178de-137c-4176-c6cd-d596a9249e95"
      },
      "outputs": [
        {
          "name": "stdout",
          "output_type": "stream",
          "text": [
            "Number of open class words in dev set:  8741\n",
            "Number of open class words in val set:  448\n",
            "Number of open class words in test set:  70795\n"
          ]
        }
      ],
      "source": [
        "def get_open_class_words(ctx, words, tags, tag, lemmas):\n",
        "    open_class_words = []\n",
        "    open_class_ctx = []\n",
        "    open_class_tags = []\n",
        "    open_class_lemmas = []\n",
        "\n",
        "    open_classes = [\"nn\", \"nn_p\", \"v_gvrb\", \"v_essere\", \"v_avere\", \"v_pp\", \"v_mod\", \"v_clit\", \"adv\", \"adj_ind\", \"adj_num\", \"adj\", \"adj_pos\", \"adj_dim\", \"adj_ies\"]\n",
        "\n",
        "    for i in range(len(words)):\n",
        "        t = tag[i]\n",
        "        if t in open_classes:\n",
        "            open_class_words.append(words[i])\n",
        "            open_class_ctx.append(ctx[i])\n",
        "            open_class_tags.append(tags[i])\n",
        "            open_class_lemmas.append(lemmas[i])\n",
        "\n",
        "    return open_class_ctx, open_class_words, open_class_tags, open_class_lemmas\n",
        "\n",
        "\n",
        "test_ctx, test_words, test_tags, test_lemmas = get_open_class_words(test_ctx, test_words, test_tags, test_tag, test_lemmas)\n",
        "dev_ctx, dev_words, dev_tags, dev_lemmas = get_open_class_words(dev_ctx, dev_words, dev_tags, dev_tag, dev_lemmas)\n",
        "val_ctx, val_words, val_tags, val_lemmas = get_open_class_words(val_ctx, val_words, val_tags, val_tag, val_lemmas)\n",
        "\n",
        "print(\"Number of open class words in dev set: \", len(dev_words))\n",
        "print(\"Number of open class words in val set: \", len(val_words)) \n",
        "print(\"Number of open class words in test set: \", len(test_words))  \n",
        "# total 79984"
      ]
    },
    {
      "cell_type": "markdown",
      "metadata": {
        "id": "k4TNe-0-CXvq"
      },
      "source": [
        "## Encoding"
      ]
    },
    {
      "cell_type": "code",
      "execution_count": 50,
      "metadata": {
        "colab": {
          "base_uri": "https://localhost:8080/"
        },
        "id": "BDgvmCucCXvq",
        "outputId": "4dbb3ea3-d7f3-4bac-c359-f7e1a7fd7f80"
      },
      "outputs": [
        {
          "name": "stdout",
          "output_type": "stream",
          "text": [
            "Vocab size:  60\n",
            "Max word length:  25\n",
            "\n",
            "Context: \n",
            " <PRE> <PRE> <PRE> <PRE> <PRE> <PRE> <PRE> <PRE> <PRE> un dovere da compiere , visto_che le loro altezze con tono scherzoso hanno subito precisato che \n",
            " [1, 1, 1, 1, 1, 1, 1, 1, 1, 11, 4746, 26, 1941, 3, 621, 20, 52, 6147, 23, 1997, 10599, 55, 387, 6148, 7]\n",
            "\n",
            "Tags: \n",
            " ['<NONE>', '<NONE>', '<NONE>', '<NONE>', '<NONE>', '<NONE>', '<NONE>', '<NONE>', '<NONE>', 'art', 'nn', 'prep', 'v_gvrb', 'p_oth', 'conj_s', 'art', 'adj_pos', 'nn', 'prep', 'nn', 'adj', 'v_avere', 'adv', 'v_pp', 'conj_s'] \n",
            " [1, 1, 1, 1, 1, 1, 1, 1, 1, 4, 2, 3, 7, 5, 17, 4, 20, 2, 3, 2, 6, 18, 9, 12, 17]\n",
            "\n",
            "Words: \n",
            " compiere \n",
            " [36 48 46 49 42 38 51 38  0  0  0  0  0  0  0  0  0  0  0  0  0  0  0  0\n",
            "  0]\n",
            "\n",
            "Lemma: \n",
            " compiere \n",
            " [36 48 46 49 42 38 51 38  0  0  0  0  0  0  0  0  0  0  0  0  0  0  0  0\n",
            "  0]\n"
          ]
        }
      ],
      "source": [
        "# word encoder\n",
        "word_tokenizer = Tokenizer(filters=\"\")\n",
        "word_tokenizer.fit_on_texts(dev_ctx + test_ctx + val_ctx)\n",
        "\n",
        "# tag encoder\n",
        "tag_tokenizer = Tokenizer(filters=\"\")\n",
        "tag_tokenizer.fit_on_texts(dev_tags + test_tags + val_tags)\n",
        "\n",
        "# lemma encoder\n",
        "lemma_tokenizer = Tokenizer(filters=\"\")\n",
        "lemma_tokenizer.fit_on_texts(dev_lemmas_s + test_lemmas_s)\n",
        "\n",
        "dev_ctx_e = word_tokenizer.texts_to_sequences(dev_ctx)\n",
        "val_ctx_e = word_tokenizer.texts_to_sequences(val_ctx)\n",
        "test_ctx_e = word_tokenizer.texts_to_sequences(test_ctx)\n",
        "\n",
        "dev_tags_e = tag_tokenizer.texts_to_sequences(dev_tags)\n",
        "val_tags_e = tag_tokenizer.texts_to_sequences(val_tags)\n",
        "test_tags_e = tag_tokenizer.texts_to_sequences(test_tags)\n",
        "\n",
        "\n",
        "\n",
        "\n",
        "# get all unique letter in words\n",
        "characters = set()\n",
        "\n",
        "for lemma in df_dev[\"lemm\"].unique():\n",
        "    for letter in lemma:\n",
        "        characters.add(letter)\n",
        "\n",
        "for lemma in df_test[\"lemm\"].unique():\n",
        "    for letter in lemma:\n",
        "        characters.add(letter)\n",
        "\n",
        "for word in df_dev[\"word\"].unique():\n",
        "    for letter in word:\n",
        "        characters.add(letter)\n",
        "\n",
        "for word in df_test[\"word\"].unique():\n",
        "    for letter in word:\n",
        "        characters.add(letter)\n",
        "    \n",
        "\n",
        "# add padding and unknown to characters\n",
        "characters.add(\" \")\n",
        "\n",
        "# the length of the vocab for one-hot encoded char\n",
        "VOCAB_SIZE = len(characters)\n",
        "\n",
        "print (\"Vocab size: \", VOCAB_SIZE)\n",
        "# order characters\n",
        "characters = sorted(list(characters))\n",
        "\n",
        "\n",
        "char2idx = {char: idx for idx, char in enumerate(characters)}\n",
        "idx2char = {idx: char for idx, char in enumerate(characters)}\n",
        "\n",
        "MAX_WORD_LENGTH = 0\n",
        "for w in dev_words + test_words + dev_lemmas + test_lemmas + val_words + val_lemmas:\n",
        "    MAX_WORD_LENGTH = max(MAX_WORD_LENGTH, len(w))\n",
        "print(\"Max word length: \", MAX_WORD_LENGTH)\n",
        "\n",
        "def encode_words(words):\n",
        "    encoded_words = []\n",
        "    for word in words:\n",
        "        word_e = []\n",
        "        for letter in word:\n",
        "            word_e.append(characters.index(letter))\n",
        "        encoded_words.append(word_e)\n",
        "    return encoded_words\n",
        "\n",
        "dev_words_e = encode_words(dev_words)\n",
        "test_words_e = encode_words(test_words)\n",
        "val_words_e = encode_words(val_words)\n",
        "\n",
        "dev_lemmas_e = encode_words(dev_lemmas)\n",
        "test_lemmas_e = encode_words(test_lemmas)\n",
        "val_lemmas_e = encode_words(val_lemmas)\n",
        "\n",
        "dev_words_e = tf.keras.preprocessing.sequence.pad_sequences(dev_words_e, maxlen=MAX_WORD_LENGTH, padding=\"post\")\n",
        "test_words_e = tf.keras.preprocessing.sequence.pad_sequences(test_words_e, maxlen=MAX_WORD_LENGTH, padding=\"post\")\n",
        "val_words_e = tf.keras.preprocessing.sequence.pad_sequences(val_words_e, maxlen=MAX_WORD_LENGTH, padding=\"post\")\n",
        "\n",
        "dev_lemmas_e = tf.keras.preprocessing.sequence.pad_sequences(dev_lemmas_e, maxlen=MAX_WORD_LENGTH, padding=\"post\")\n",
        "test_lemmas_e = tf.keras.preprocessing.sequence.pad_sequences(test_lemmas_e, maxlen=MAX_WORD_LENGTH, padding=\"post\")\n",
        "val_lemmas_e = tf.keras.preprocessing.sequence.pad_sequences(val_lemmas_e, maxlen=MAX_WORD_LENGTH, padding=\"post\")\n",
        "\n",
        "index = np.random.randint(0, len(dev_ctx))\n",
        "print(\"\\nContext: \\n\", dev_ctx[index], \"\\n\", dev_ctx_e[index])\n",
        "print(\"\\nTags: \\n\", dev_tags[index], \"\\n\", dev_tags_e[index])\n",
        "print(\"\\nWords: \\n\", dev_words[index], \"\\n\", dev_words_e[index])\n",
        "print(\"\\nLemma: \\n\", dev_lemmas[index], \"\\n\", dev_lemmas_e[index])\n"
      ]
    },
    {
      "cell_type": "code",
      "execution_count": 51,
      "metadata": {
        "id": "pXlZTReRCXvq"
      },
      "outputs": [],
      "source": [
        "# one hot encode the characters for the lemmas\n",
        "dev_lemmas_e = tf.one_hot(dev_lemmas_e, VOCAB_SIZE)\n",
        "test_lemmas_e = tf.one_hot(test_lemmas_e, VOCAB_SIZE)\n",
        "val_lemmas_e = tf.one_hot(val_lemmas_e, VOCAB_SIZE)\n"
      ]
    },
    {
      "cell_type": "code",
      "execution_count": 52,
      "metadata": {
        "colab": {
          "base_uri": "https://localhost:8080/"
        },
        "id": "vtsh2qnGCXvs",
        "outputId": "d9a4abe3-ea2b-4c32-9594-2bcac2293b7a"
      },
      "outputs": [
        {
          "name": "stdout",
          "output_type": "stream",
          "text": [
            "Train shape\n",
            "Context shape:  (8741, 25)\n",
            "Words shape:  (8741, 25)\n",
            "Tags shape:  (8741, 25)\n",
            "Lemmas shape:  (8741, 25, 60)\n",
            "\n",
            "Test shape\n",
            "Context shape:  (70795, 25)\n",
            "Words shape:  (70795, 25)\n",
            "Tags shape:  (70795, 25)\n",
            "Lemmas shape:  (70795, 25, 60)\n"
          ]
        }
      ],
      "source": [
        "# trnasform to numpy array\n",
        "dev_ctx_e = np.array(dev_ctx_e)\n",
        "dev_words_e = np.array(dev_words_e)\n",
        "dev_tags_e = np.array(dev_tags_e)\n",
        "dev_lemmas_e = np.array(dev_lemmas_e)\n",
        "\n",
        "test_ctx_e = np.array(test_ctx_e)\n",
        "test_words_e = np.array(test_words_e)\n",
        "test_tags_e = np.array(test_tags_e)\n",
        "test_lemmas_e = np.array(test_lemmas_e)\n",
        "\n",
        "val_ctx_e = np.array(val_ctx_e)\n",
        "val_words_e = np.array(val_words_e)\n",
        "val_tags_e = np.array(val_tags_e)\n",
        "val_lemmas_e = np.array(val_lemmas_e)\n",
        "\n",
        "print(\"Train shape\")\n",
        "print(\"Context shape: \", dev_ctx_e.shape)\n",
        "print(\"Words shape: \", dev_words_e.shape)\n",
        "print(\"Tags shape: \", dev_tags_e.shape)\n",
        "print(\"Lemmas shape: \", dev_lemmas_e.shape)\n",
        "\n",
        "print(\"\\nTest shape\")\n",
        "print(\"Context shape: \", test_ctx_e.shape)\n",
        "print(\"Words shape: \", test_words_e.shape)\n",
        "print(\"Tags shape: \", test_tags_e.shape)\n",
        "print(\"Lemmas shape: \", test_lemmas_e.shape)"
      ]
    },
    {
      "cell_type": "markdown",
      "metadata": {
        "id": "nLAyRU0RCXvs"
      },
      "source": [
        "## Model"
      ]
    },
    {
      "cell_type": "markdown",
      "metadata": {
        "id": "Xj8391mwCXvs"
      },
      "source": [
        "### Lemmatization Accuracy"
      ]
    },
    {
      "cell_type": "code",
      "execution_count": 53,
      "metadata": {
        "id": "2YpdToIbCXvs"
      },
      "outputs": [],
      "source": [
        "def accuracy(y_true, y_pred):\n",
        "    y_true = tf.argmax(y_true, axis=-1)\n",
        "    y_pred = tf.argmax(y_pred, axis=-1)\n",
        "    correct_predictions = tf.reduce_all(tf.equal(y_true, y_pred), axis=-1)\n",
        "    accuracy = tf.reduce_mean(tf.cast(correct_predictions, tf.float32))\n",
        "    return accuracy\n"
      ]
    },
    {
      "cell_type": "markdown",
      "metadata": {
        "id": "QqY9BzpyCXvv"
      },
      "source": [
        "### Word2Vec"
      ]
    },
    {
      "cell_type": "code",
      "execution_count": 54,
      "metadata": {
        "colab": {
          "base_uri": "https://localhost:8080/"
        },
        "id": "wY0OBxc2CXvv",
        "outputId": "583838fa-2536-4896-d43e-20ca03fe1175"
      },
      "outputs": [
        {
          "name": "stderr",
          "output_type": "stream",
          "text": [
            "WARNING:gensim.models.word2vec:Each 'sentences' item should be a list of words (usually unicode strings). First item here is instead plain <class 'str'>.\n"
          ]
        }
      ],
      "source": [
        "EMBEDDING_DIM = 512\n",
        "VOCABULARY_SIZE = len(word_tokenizer.word_index) + 1\n",
        "\n",
        "def get_word2vec_weights(DIM):\n",
        "    # train word2vec model\n",
        "    word2vec = gensim.models.Word2Vec(dev_ctx + val_ctx + test_ctx, size=DIM, window=10, min_count=1, workers=8)\n",
        "\n",
        "    # create an empty embedding matix\n",
        "    embedding_weights = np.zeros((VOCABULARY_SIZE, DIM))\n",
        "\n",
        "    # create a word to index dictionary mapping\n",
        "    word2id = word_tokenizer.word_index\n",
        "\n",
        "    # copy vectors from word2vec model to the words present in corpus\n",
        "    for word, index in word2id.items():\n",
        "        try:\n",
        "            embedding_weights[index, :] = word2vec.wv[word]\n",
        "        except KeyError:\n",
        "            pass\n",
        "\n",
        "    return embedding_weights\n",
        "\n",
        "embedding_weights = get_word2vec_weights(EMBEDDING_DIM)"
      ]
    },
    {
      "cell_type": "code",
      "execution_count": 55,
      "metadata": {
        "colab": {
          "base_uri": "https://localhost:8080/"
        },
        "id": "flAnhFU9CXvv",
        "outputId": "9f17c9ee-0d45-4372-ee7e-5222365b22b8"
      },
      "outputs": [
        {
          "name": "stdout",
          "output_type": "stream",
          "text": [
            "Model: \"model_3\"\n",
            "__________________________________________________________________________________________________\n",
            " Layer (type)                   Output Shape         Param #     Connected to                     \n",
            "==================================================================================================\n",
            " tags_input (InputLayer)        [(None, 25)]         0           []                               \n",
            "                                                                                                  \n",
            " input_7 (InputLayer)           [(None, 25)]         0           []                               \n",
            "                                                                                                  \n",
            " tags_embedding (Embedding)     (None, 25, 64)       2176        ['tags_input[0][0]']             \n",
            "                                                                                                  \n",
            " context_embedding (Embedding)  (None, 25, 512)      10131968    ['input_7[0][0]']                \n",
            "                                                                                                  \n",
            " bidirectional_10 (Bidirectiona  (None, 25, 128)     66048       ['tags_embedding[1][0]']         \n",
            " l)                                                                                               \n",
            "                                                                                                  \n",
            " input_8 (InputLayer)           [(None, 25)]         0           []                               \n",
            "                                                                                                  \n",
            " bidirectional_9 (Bidirectional  (None, 25, 1024)    4198400     ['context_embedding[1][0]']      \n",
            " )                                                                                                \n",
            "                                                                                                  \n",
            " time_distributed_15 (TimeDistr  (None, 25, 1024)    132096      ['bidirectional_10[1][0]']       \n",
            " ibuted)                                                                                          \n",
            "                                                                                                  \n",
            " words_embedding (Embedding)    (None, 25, 512)      30720       ['input_8[0][0]']                \n",
            "                                                                                                  \n",
            " attention (Attention)          (None, 25, 1024)     0           ['bidirectional_9[1][0]',        \n",
            "                                                                  'time_distributed_15[1][0]']    \n",
            "                                                                                                  \n",
            " bidirectional_11 (Bidirectiona  (None, 25, 1024)    4198400     ['words_embedding[1][0]']        \n",
            " l)                                                                                               \n",
            "                                                                                                  \n",
            " concatenate_3 (Concatenate)    (None, 25, 2048)     0           ['attention[1][0]',              \n",
            "                                                                  'bidirectional_11[1][0]']       \n",
            "                                                                                                  \n",
            " lstm (Bidirectional)           (None, 25, 1024)     10489856    ['concatenate_3[1][0]']          \n",
            "                                                                                                  \n",
            " dropout_12 (Dropout)           (None, 25, 1024)     0           ['lstm[1][0]']                   \n",
            "                                                                                                  \n",
            " lstm2 (Bidirectional)          (None, 25, 1024)     6295552     ['dropout_12[1][0]']             \n",
            "                                                                                                  \n",
            " time_distributed_16 (TimeDistr  (None, 25, 512)     524800      ['lstm2[1][0]']                  \n",
            " ibuted)                                                                                          \n",
            "                                                                                                  \n",
            " dropout_13 (Dropout)           (None, 25, 512)      0           ['time_distributed_16[1][0]']    \n",
            "                                                                                                  \n",
            " time_distributed_17 (TimeDistr  (None, 25, 512)     262656      ['dropout_13[1][0]']             \n",
            " ibuted)                                                                                          \n",
            "                                                                                                  \n",
            " dropout_14 (Dropout)           (None, 25, 512)      0           ['time_distributed_17[1][0]']    \n",
            "                                                                                                  \n",
            " time_distributed_18 (TimeDistr  (None, 25, 512)     262656      ['dropout_14[1][0]']             \n",
            " ibuted)                                                                                          \n",
            "                                                                                                  \n",
            " dropout_15 (Dropout)           (None, 25, 512)      0           ['time_distributed_18[1][0]']    \n",
            "                                                                                                  \n",
            " time_distributed_19 (TimeDistr  (None, 25, 512)     262656      ['dropout_15[1][0]']             \n",
            " ibuted)                                                                                          \n",
            "                                                                                                  \n",
            " output (TimeDistributed)       (None, 25, 60)       30780       ['time_distributed_19[1][0]']    \n",
            "                                                                                                  \n",
            "==================================================================================================\n",
            "Total params: 36,888,764\n",
            "Trainable params: 26,756,796\n",
            "Non-trainable params: 10,131,968\n",
            "__________________________________________________________________________________________________\n"
          ]
        }
      ],
      "source": [
        "# Neural network model\n",
        "# inputs:\n",
        "#   - context: (batch_size, CTX_DIM * 2) \n",
        "#   - tags: encoded tags: (batch_size, MAX_WORD_LENGTH)\n",
        "#   - words: encoded words: (batch_size, MAX_WORD_LENGTH)\n",
        "# outputs:\n",
        "#  - lemma: encoded lemma: (batch_size, MAX_WORD_LENGTH)\n",
        "\n",
        "def get_model():\n",
        "    # context\n",
        "    context_input = Input(shape=(CTX_DIM * 2 + 1,), name=\"context_input\")\n",
        "    context_input = Masking(mask_value=1)(context_input)\n",
        "    context_input = Masking(mask_value=2)(context_input)\n",
        "    context_embedding = Embedding(len(word_tokenizer.word_index) + 1, EMBEDDING_DIM, input_length=CTX_DIM * 2 + 1,name=\"context_embedding\", trainable=False, weights=[embedding_weights])(context_input)\n",
        "    context_embedding = Bidirectional(LSTM(EMBEDDING_DIM, return_sequences=True))(context_embedding)\n",
        "\n",
        "    # tags\n",
        "    tags_input = Input(shape=(CTX_DIM * 2 + 1,), name=\"tags_input\")\n",
        "    tags_embedding = Embedding(len(tag_tokenizer.word_index) + 1, 64, input_length=CTX_DIM * 2 + 1, name=\"tags_embedding\", trainable=True)(tags_input)\n",
        "    tags_embedding = Bidirectional(LSTM(64, return_sequences=True))(tags_embedding)\n",
        "    tags_embedding = TimeDistributed(Dense(EMBEDDING_DIM*2))(tags_embedding)\n",
        "    \n",
        "    # words\n",
        "    words_input = Input(shape=(MAX_WORD_LENGTH,), name=\"words_input\")\n",
        "    words_input = Masking(mask_value=0)(words_input)\n",
        "    words_embedding = Embedding(VOCAB_SIZE, int(EMBEDDING_DIM), input_length=MAX_WORD_LENGTH, name=\"words_embedding\", trainable=True)(words_input)\n",
        "    words_embedding = Bidirectional(LSTM(EMBEDDING_DIM, return_sequences=True))(words_embedding)\n",
        "\n",
        "    # combine\n",
        "    attention = Attention(name=\"attention\")([context_embedding, tags_embedding])\n",
        "    combine = Concatenate(axis=-1)([attention, words_embedding])\n",
        "    \n",
        "    lstm = Bidirectional(LSTM(EMBEDDING_DIM, return_sequences=True), name=\"lstm\")(combine)\n",
        "    lstm = Dropout(0.5)(lstm)\n",
        "    lstm = Bidirectional(LSTM(EMBEDDING_DIM, return_sequences=True), name=\"lstm2\")(lstm)\n",
        "\n",
        "    dense = TimeDistributed(Dense(EMBEDDING_DIM, activation=\"swish\", name=\"dense\"))(lstm)\n",
        "    dense = Dropout(0.3)(dense)\n",
        "    dense = TimeDistributed(Dense(EMBEDDING_DIM, activation=\"swish\", name=\"dense\"))(dense)\n",
        "    dense = Dropout(0.2)(dense)\n",
        "    dense = TimeDistributed(Dense(EMBEDDING_DIM, activation=\"swish\", name=\"dense\"))(dense)\n",
        "    dense = Dropout(0.1)(dense)\n",
        "    dense = TimeDistributed(Dense(EMBEDDING_DIM, activation=\"swish\", name=\"dense\"))(dense)\n",
        "\n",
        "    output = TimeDistributed(Dense(VOCAB_SIZE, activation=\"softmax\"), name=\"output\")(dense)\n",
        "    return Model(inputs=[context_input, tags_input, words_input], outputs=[output])\n",
        "\n",
        "model = get_model()\n",
        "model.summary()\n"
      ]
    },
    {
      "cell_type": "markdown",
      "metadata": {
        "id": "SPzq5zAJCXvx"
      },
      "source": [
        "### Training"
      ]
    },
    {
      "cell_type": "code",
      "execution_count": 56,
      "metadata": {
        "colab": {
          "base_uri": "https://localhost:8080/"
        },
        "id": "PGNU9pxyCXvx",
        "outputId": "3c2294a1-a1d5-459a-b39f-829e7fe6bbd4"
      },
      "outputs": [
        {
          "name": "stdout",
          "output_type": "stream",
          "text": [
            "Epoch 1/100\n",
            "35/35 [==============================] - 28s 415ms/step - loss: 1.2169 - accuracy: 0.0000e+00 - val_loss: 0.7903 - val_accuracy: 0.0000e+00\n",
            "Epoch 2/100\n",
            "35/35 [==============================] - 11s 326ms/step - loss: 0.7948 - accuracy: 0.0000e+00 - val_loss: 0.7662 - val_accuracy: 0.0000e+00\n",
            "Epoch 3/100\n",
            "35/35 [==============================] - 12s 334ms/step - loss: 0.7759 - accuracy: 0.0000e+00 - val_loss: 0.7452 - val_accuracy: 0.0000e+00\n",
            "Epoch 4/100\n",
            "35/35 [==============================] - 11s 328ms/step - loss: 0.7352 - accuracy: 0.0000e+00 - val_loss: 0.6255 - val_accuracy: 0.0000e+00\n",
            "Epoch 5/100\n",
            "35/35 [==============================] - 11s 327ms/step - loss: 0.5106 - accuracy: 0.0115 - val_loss: 0.3806 - val_accuracy: 0.0645\n",
            "Epoch 6/100\n",
            "35/35 [==============================] - 11s 324ms/step - loss: 0.3391 - accuracy: 0.0880 - val_loss: 0.2596 - val_accuracy: 0.1979\n",
            "Epoch 7/100\n",
            "35/35 [==============================] - 11s 324ms/step - loss: 0.2636 - accuracy: 0.1716 - val_loss: 0.2195 - val_accuracy: 0.2448\n",
            "Epoch 8/100\n",
            "35/35 [==============================] - 11s 326ms/step - loss: 0.2018 - accuracy: 0.2950 - val_loss: 0.1746 - val_accuracy: 0.3841\n",
            "Epoch 9/100\n",
            "35/35 [==============================] - 11s 327ms/step - loss: 0.1563 - accuracy: 0.4375 - val_loss: 0.1409 - val_accuracy: 0.5299\n",
            "Epoch 10/100\n",
            "35/35 [==============================] - 12s 329ms/step - loss: 0.1280 - accuracy: 0.5238 - val_loss: 0.1223 - val_accuracy: 0.5586\n",
            "Epoch 11/100\n",
            "35/35 [==============================] - 12s 329ms/step - loss: 0.1122 - accuracy: 0.5710 - val_loss: 0.1174 - val_accuracy: 0.6016\n",
            "Epoch 12/100\n",
            "35/35 [==============================] - 11s 328ms/step - loss: 0.1039 - accuracy: 0.5944 - val_loss: 0.1031 - val_accuracy: 0.6165\n",
            "Epoch 13/100\n",
            "35/35 [==============================] - 11s 327ms/step - loss: 0.0907 - accuracy: 0.6249 - val_loss: 0.0942 - val_accuracy: 0.6426\n",
            "Epoch 14/100\n",
            "35/35 [==============================] - 11s 323ms/step - loss: 0.0819 - accuracy: 0.6545 - val_loss: 0.0902 - val_accuracy: 0.6361\n",
            "Epoch 15/100\n",
            "35/35 [==============================] - 11s 326ms/step - loss: 0.0773 - accuracy: 0.6585 - val_loss: 0.0870 - val_accuracy: 0.6576\n",
            "Epoch 16/100\n",
            "35/35 [==============================] - 11s 325ms/step - loss: 0.0755 - accuracy: 0.6737 - val_loss: 0.0851 - val_accuracy: 0.6458\n",
            "Epoch 17/100\n",
            "35/35 [==============================] - 11s 327ms/step - loss: 0.0651 - accuracy: 0.7015 - val_loss: 0.0631 - val_accuracy: 0.7363\n",
            "Epoch 18/100\n",
            "35/35 [==============================] - 11s 328ms/step - loss: 0.0508 - accuracy: 0.7543 - val_loss: 0.0538 - val_accuracy: 0.7500\n",
            "Epoch 19/100\n",
            "35/35 [==============================] - 11s 328ms/step - loss: 0.0471 - accuracy: 0.7670 - val_loss: 0.0507 - val_accuracy: 0.7793\n",
            "Epoch 20/100\n",
            "35/35 [==============================] - 11s 324ms/step - loss: 0.0399 - accuracy: 0.7929 - val_loss: 0.0467 - val_accuracy: 0.7663\n",
            "Epoch 21/100\n",
            "35/35 [==============================] - 11s 327ms/step - loss: 0.0354 - accuracy: 0.8127 - val_loss: 0.0390 - val_accuracy: 0.8125\n",
            "Epoch 22/100\n",
            "35/35 [==============================] - 11s 327ms/step - loss: 0.0300 - accuracy: 0.8328 - val_loss: 0.0363 - val_accuracy: 0.8164\n",
            "Epoch 23/100\n",
            "35/35 [==============================] - 11s 327ms/step - loss: 0.0291 - accuracy: 0.8381 - val_loss: 0.0327 - val_accuracy: 0.8405\n",
            "Epoch 24/100\n",
            "35/35 [==============================] - 11s 327ms/step - loss: 0.0243 - accuracy: 0.8634 - val_loss: 0.0330 - val_accuracy: 0.8522\n",
            "Epoch 25/100\n",
            "35/35 [==============================] - 11s 324ms/step - loss: 0.0231 - accuracy: 0.8637 - val_loss: 0.0344 - val_accuracy: 0.8444\n",
            "Epoch 26/100\n",
            "35/35 [==============================] - 11s 326ms/step - loss: 0.0206 - accuracy: 0.8782 - val_loss: 0.0341 - val_accuracy: 0.8724\n",
            "Epoch 27/100\n",
            "35/35 [==============================] - 11s 324ms/step - loss: 0.0194 - accuracy: 0.8852 - val_loss: 0.0289 - val_accuracy: 0.8717\n",
            "Epoch 28/100\n",
            "35/35 [==============================] - 11s 326ms/step - loss: 0.0156 - accuracy: 0.9043 - val_loss: 0.0307 - val_accuracy: 0.8939\n",
            "Epoch 29/100\n",
            "35/35 [==============================] - 11s 324ms/step - loss: 0.0219 - accuracy: 0.8779 - val_loss: 0.0775 - val_accuracy: 0.8008\n",
            "Epoch 30/100\n",
            "35/35 [==============================] - 11s 325ms/step - loss: 0.0456 - accuracy: 0.8032 - val_loss: 0.0350 - val_accuracy: 0.8581\n",
            "Epoch 31/100\n",
            "35/35 [==============================] - 11s 323ms/step - loss: 0.0206 - accuracy: 0.8892 - val_loss: 0.0284 - val_accuracy: 0.8906\n",
            "Epoch 32/100\n",
            "35/35 [==============================] - 11s 326ms/step - loss: 0.0138 - accuracy: 0.9159 - val_loss: 0.0243 - val_accuracy: 0.9069\n",
            "Epoch 33/100\n",
            "35/35 [==============================] - 11s 326ms/step - loss: 0.0106 - accuracy: 0.9332 - val_loss: 0.0258 - val_accuracy: 0.9108\n",
            "Epoch 34/100\n",
            "35/35 [==============================] - 11s 325ms/step - loss: 0.0098 - accuracy: 0.9392 - val_loss: 0.0241 - val_accuracy: 0.9180\n",
            "Epoch 35/100\n",
            "35/35 [==============================] - 11s 327ms/step - loss: 0.0083 - accuracy: 0.9462 - val_loss: 0.0254 - val_accuracy: 0.9193\n",
            "Epoch 36/100\n",
            "35/35 [==============================] - 11s 329ms/step - loss: 0.0089 - accuracy: 0.9434 - val_loss: 0.0237 - val_accuracy: 0.9212\n",
            "Epoch 37/100\n",
            "35/35 [==============================] - 11s 327ms/step - loss: 0.0084 - accuracy: 0.9464 - val_loss: 0.0227 - val_accuracy: 0.9316\n",
            "Epoch 38/100\n",
            "35/35 [==============================] - 11s 324ms/step - loss: 0.0074 - accuracy: 0.9489 - val_loss: 0.0283 - val_accuracy: 0.9297\n",
            "Epoch 39/100\n",
            "35/35 [==============================] - 11s 323ms/step - loss: 0.0074 - accuracy: 0.9503 - val_loss: 0.0232 - val_accuracy: 0.9271\n",
            "Epoch 40/100\n",
            "35/35 [==============================] - 11s 323ms/step - loss: 0.0062 - accuracy: 0.9627 - val_loss: 0.0236 - val_accuracy: 0.9264\n",
            "Epoch 41/100\n",
            "35/35 [==============================] - 11s 326ms/step - loss: 0.0048 - accuracy: 0.9675 - val_loss: 0.0234 - val_accuracy: 0.9323\n",
            "Epoch 42/100\n",
            "35/35 [==============================] - 11s 326ms/step - loss: 0.0039 - accuracy: 0.9739 - val_loss: 0.0249 - val_accuracy: 0.9473\n",
            "Epoch 43/100\n",
            "35/35 [==============================] - 11s 323ms/step - loss: 0.0040 - accuracy: 0.9722 - val_loss: 0.0264 - val_accuracy: 0.9290\n",
            "Epoch 44/100\n",
            "35/35 [==============================] - 11s 323ms/step - loss: 0.0047 - accuracy: 0.9710 - val_loss: 0.0279 - val_accuracy: 0.9154\n",
            "Epoch 45/100\n",
            "35/35 [==============================] - 11s 323ms/step - loss: 0.0055 - accuracy: 0.9671 - val_loss: 0.0232 - val_accuracy: 0.9277\n",
            "Epoch 46/100\n",
            "35/35 [==============================] - 11s 324ms/step - loss: 0.0037 - accuracy: 0.9747 - val_loss: 0.0240 - val_accuracy: 0.9375\n",
            "Epoch 47/100\n",
            "35/35 [==============================] - 11s 323ms/step - loss: 0.0031 - accuracy: 0.9771 - val_loss: 0.0263 - val_accuracy: 0.9316\n",
            "Epoch 48/100\n",
            "35/35 [==============================] - 11s 323ms/step - loss: 0.0029 - accuracy: 0.9811 - val_loss: 0.0235 - val_accuracy: 0.9355\n",
            "Epoch 49/100\n",
            "35/35 [==============================] - 11s 322ms/step - loss: 0.0023 - accuracy: 0.9832 - val_loss: 0.0266 - val_accuracy: 0.9421\n",
            "Epoch 50/100\n",
            "35/35 [==============================] - 11s 323ms/step - loss: 0.0051 - accuracy: 0.9605 - val_loss: 0.1127 - val_accuracy: 0.8073\n",
            "Epoch 51/100\n",
            "35/35 [==============================] - 11s 324ms/step - loss: 0.1291 - accuracy: 0.6683 - val_loss: 0.0462 - val_accuracy: 0.8385\n",
            "Epoch 52/100\n",
            "35/35 [==============================] - 11s 324ms/step - loss: 0.0176 - accuracy: 0.9120 - val_loss: 0.0173 - val_accuracy: 0.9264\n",
            "Epoch 53/100\n",
            "35/35 [==============================] - 11s 323ms/step - loss: 0.0056 - accuracy: 0.9641 - val_loss: 0.0200 - val_accuracy: 0.9342\n",
            "Epoch 54/100\n",
            "35/35 [==============================] - 11s 323ms/step - loss: 0.0031 - accuracy: 0.9797 - val_loss: 0.0227 - val_accuracy: 0.9453\n",
            "Epoch 55/100\n",
            "35/35 [==============================] - 11s 327ms/step - loss: 0.0023 - accuracy: 0.9827 - val_loss: 0.0210 - val_accuracy: 0.9505\n",
            "Epoch 56/100\n",
            "35/35 [==============================] - 11s 324ms/step - loss: 0.0022 - accuracy: 0.9835 - val_loss: 0.0207 - val_accuracy: 0.9466\n",
            "Epoch 57/100\n",
            "35/35 [==============================] - 11s 323ms/step - loss: 0.0016 - accuracy: 0.9903 - val_loss: 0.0224 - val_accuracy: 0.9447\n",
            "Epoch 58/100\n",
            "35/35 [==============================] - 11s 322ms/step - loss: 0.0019 - accuracy: 0.9835 - val_loss: 0.0224 - val_accuracy: 0.9453\n",
            "Epoch 59/100\n",
            "35/35 [==============================] - 11s 323ms/step - loss: 0.0014 - accuracy: 0.9890 - val_loss: 0.0224 - val_accuracy: 0.9460\n",
            "Epoch 60/100\n",
            "35/35 [==============================] - 11s 323ms/step - loss: 0.0014 - accuracy: 0.9899 - val_loss: 0.0224 - val_accuracy: 0.9492\n",
            "Epoch 61/100\n",
            "35/35 [==============================] - 11s 324ms/step - loss: 0.0018 - accuracy: 0.9883 - val_loss: 0.0235 - val_accuracy: 0.9486\n",
            "Epoch 62/100\n",
            "35/35 [==============================] - 11s 323ms/step - loss: 0.0013 - accuracy: 0.9889 - val_loss: 0.0230 - val_accuracy: 0.9505\n",
            "Epoch 63/100\n",
            "35/35 [==============================] - 11s 326ms/step - loss: 0.0017 - accuracy: 0.9875 - val_loss: 0.0174 - val_accuracy: 0.9538\n",
            "Epoch 64/100\n",
            "35/35 [==============================] - 11s 327ms/step - loss: 8.9532e-04 - accuracy: 0.9935 - val_loss: 0.0264 - val_accuracy: 0.9544\n",
            "Epoch 65/100\n",
            "35/35 [==============================] - 11s 323ms/step - loss: 7.3653e-04 - accuracy: 0.9945 - val_loss: 0.0268 - val_accuracy: 0.9512\n",
            "Epoch 66/100\n",
            "35/35 [==============================] - 11s 326ms/step - loss: 8.4332e-04 - accuracy: 0.9955 - val_loss: 0.0236 - val_accuracy: 0.9603\n",
            "Epoch 67/100\n",
            "35/35 [==============================] - 11s 323ms/step - loss: 7.5141e-04 - accuracy: 0.9953 - val_loss: 0.0253 - val_accuracy: 0.9570\n",
            "Epoch 68/100\n",
            "35/35 [==============================] - 11s 324ms/step - loss: 7.1218e-04 - accuracy: 0.9942 - val_loss: 0.0241 - val_accuracy: 0.9538\n",
            "Epoch 69/100\n",
            "35/35 [==============================] - 11s 324ms/step - loss: 7.5768e-04 - accuracy: 0.9946 - val_loss: 0.0285 - val_accuracy: 0.9492\n",
            "Epoch 70/100\n",
            "35/35 [==============================] - 11s 324ms/step - loss: 9.0474e-04 - accuracy: 0.9940 - val_loss: 0.0247 - val_accuracy: 0.9401\n",
            "Epoch 71/100\n",
            "35/35 [==============================] - 11s 323ms/step - loss: 0.0018 - accuracy: 0.9867 - val_loss: 0.0255 - val_accuracy: 0.9473\n",
            "Epoch 72/100\n",
            "35/35 [==============================] - 11s 323ms/step - loss: 0.0020 - accuracy: 0.9864 - val_loss: 0.0269 - val_accuracy: 0.9368\n",
            "Epoch 73/100\n",
            "35/35 [==============================] - 11s 323ms/step - loss: 0.0012 - accuracy: 0.9914 - val_loss: 0.0277 - val_accuracy: 0.9401\n",
            "Epoch 74/100\n",
            "35/35 [==============================] - 11s 323ms/step - loss: 0.0014 - accuracy: 0.9905 - val_loss: 0.0263 - val_accuracy: 0.9434\n",
            "Epoch 75/100\n",
            "35/35 [==============================] - 11s 323ms/step - loss: 0.0011 - accuracy: 0.9917 - val_loss: 0.0234 - val_accuracy: 0.9518\n",
            "Epoch 76/100\n",
            "35/35 [==============================] - 11s 323ms/step - loss: 7.0759e-04 - accuracy: 0.9948 - val_loss: 0.0248 - val_accuracy: 0.9603\n",
            "Epoch 77/100\n",
            "35/35 [==============================] - 11s 322ms/step - loss: 4.2786e-04 - accuracy: 0.9970 - val_loss: 0.0292 - val_accuracy: 0.9499\n",
            "Epoch 78/100\n",
            "35/35 [==============================] - 11s 323ms/step - loss: 4.6808e-04 - accuracy: 0.9961 - val_loss: 0.0264 - val_accuracy: 0.9551\n",
            "Epoch 79/100\n",
            "35/35 [==============================] - 11s 323ms/step - loss: 5.0074e-04 - accuracy: 0.9967 - val_loss: 0.0281 - val_accuracy: 0.9531\n",
            "Epoch 80/100\n",
            "35/35 [==============================] - 11s 322ms/step - loss: 6.6009e-04 - accuracy: 0.9952 - val_loss: 0.0272 - val_accuracy: 0.9603\n",
            "Epoch 81/100\n",
            "35/35 [==============================] - 11s 323ms/step - loss: 6.5185e-04 - accuracy: 0.9940 - val_loss: 0.0257 - val_accuracy: 0.9427\n",
            "Epoch 82/100\n",
            "35/35 [==============================] - 11s 324ms/step - loss: 0.0045 - accuracy: 0.9766 - val_loss: 0.0312 - val_accuracy: 0.9388\n",
            "Epoch 83/100\n",
            "35/35 [==============================] - 11s 324ms/step - loss: 0.0036 - accuracy: 0.9779 - val_loss: 0.0286 - val_accuracy: 0.9466\n",
            "Epoch 84/100\n",
            "35/35 [==============================] - 11s 324ms/step - loss: 0.0019 - accuracy: 0.9876 - val_loss: 0.0373 - val_accuracy: 0.9336\n",
            "Epoch 85/100\n",
            "35/35 [==============================] - 11s 325ms/step - loss: 0.0259 - accuracy: 0.9249 - val_loss: 0.1206 - val_accuracy: 0.6979\n",
            "Epoch 86/100\n",
            "35/35 [==============================] - 11s 327ms/step - loss: 0.0484 - accuracy: 0.7989 - val_loss: 0.0356 - val_accuracy: 0.8835\n"
          ]
        }
      ],
      "source": [
        "early_stopping = EarlyStopping(monitor=\"val_accuracy\", patience=20, restore_best_weights=True)\n",
        "\n",
        "\n",
        "model.compile(loss=\"categorical_crossentropy\", optimizer=\"adam\", metrics=[accuracy])\n",
        "\n",
        "# train model\n",
        "history = model.fit([dev_ctx_e, dev_tags_e, dev_words_e], dev_lemmas_e, epochs=100, batch_size=256, validation_data=([val_ctx_e, val_tags_e, val_words_e], val_lemmas_e), callbacks=[early_stopping])"
      ]
    },
    {
      "cell_type": "markdown",
      "metadata": {
        "id": "P7AMK_4pCXvx"
      },
      "source": [
        "## Evaluation"
      ]
    },
    {
      "cell_type": "code",
      "execution_count": 57,
      "metadata": {
        "colab": {
          "base_uri": "https://localhost:8080/"
        },
        "id": "oR3saAaeCXvy",
        "outputId": "0e5107d3-b295-46ed-b54d-9f4424818899"
      },
      "outputs": [
        {
          "name": "stdout",
          "output_type": "stream",
          "text": [
            "2213/2213 [==============================] - 57s 26ms/step - loss: 0.0261 - accuracy: 0.9516\n",
            "Test loss:  0.026086971163749695\n",
            "Test accuracy:  0.951564610004425\n"
          ]
        }
      ],
      "source": [
        "# evaluate model\n",
        "result = model.evaluate([test_ctx_e, test_tags_e, test_words_e], test_lemmas_e)\n",
        "print(\"Test loss: \", result[0])\n",
        "print(\"Test accuracy: \", result[1])\n"
      ]
    }
  ],
  "metadata": {
    "accelerator": "GPU",
    "colab": {
      "provenance": []
    },
    "gpuClass": "standard",
    "kernelspec": {
      "display_name": "ml",
      "language": "python",
      "name": "python3"
    },
    "language_info": {
      "codemirror_mode": {
        "name": "ipython",
        "version": 3
      },
      "file_extension": ".py",
      "mimetype": "text/x-python",
      "name": "python",
      "nbconvert_exporter": "python",
      "pygments_lexer": "ipython3",
      "version": "3.10.8"
    },
    "orig_nbformat": 4,
    "vscode": {
      "interpreter": {
        "hash": "08eac26dc1f80337b7d87e94e7159a5bad95c2e85f47efef91c61359b3afbfe9"
      }
    }
  },
  "nbformat": 4,
  "nbformat_minor": 0
}
