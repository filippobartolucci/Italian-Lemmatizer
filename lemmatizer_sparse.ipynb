{
 "cells": [
  {
   "cell_type": "code",
   "execution_count": 1,
   "metadata": {},
   "outputs": [
    {
     "name": "stdout",
     "output_type": "stream",
     "text": [
      "Max sentence length:  95\n",
      "Max sentence length:  107\n",
      "Number of sentences in dev set:  703\n",
      "Number of sentences in test set:  5596\n"
     ]
    }
   ],
   "source": [
    "import seaborn as sns\n",
    "import matplotlib.pyplot as plt\n",
    "from keras import backend as K\n",
    "from keras.layers import Input, LSTM, Dense, Embedding, Concatenate, Bidirectional, TimeDistributed, RepeatVector, Activation, Dot, Lambda, GRU\n",
    "from keras.models import Model\n",
    "from keras.preprocessing.text import Tokenizer\n",
    "from sklearn.model_selection import train_test_split\n",
    "from sklearn.preprocessing import OneHotEncoder\n",
    "import numpy as np\n",
    "import gensim\n",
    "import tensorflow_addons as tfa\n",
    "import tensorflow as tf\n",
    "import pandas as pd\n",
    "import datetime\n",
    "import os\n",
    "os.environ['TF_CPP_MIN_LOG_LEVEL'] = '3'\n",
    "\n",
    "# set all random seeds\n",
    "np.random.seed(42)\n",
    "tf.random.set_seed(42)\n",
    "\n",
    "dataset_path = \"./dev.csv\"\n",
    "df_dev = pd.read_csv(dataset_path, sep=\"\\t\", header=None,\n",
    "                     names=[\"word\", \"tag\", \"lemm\"])\n",
    "\n",
    "dataset_path = \"./test.csv\"\n",
    "df_test = pd.read_csv(dataset_path, sep=\"\\t\", header=None,\n",
    "                      names=[\"word\", \"tag\", \"lemm\"])\n",
    "\n",
    "df_dev[\"word\"] = df_dev[\"word\"].astype(str)\n",
    "df_dev[\"tag\"] = df_dev[\"tag\"].astype(str)\n",
    "df_dev[\"lemm\"] = df_dev[\"lemm\"].astype(str)\n",
    "\n",
    "df_test[\"word\"] = df_test[\"word\"].astype(str)\n",
    "df_test[\"tag\"] = df_test[\"tag\"].astype(str)\n",
    "df_test[\"lemm\"] = df_test[\"lemm\"].astype(str)\n",
    "\n",
    "# remove head\n",
    "df_dev = df_dev.iloc[1:]\n",
    "df_test = df_test.iloc[1:]\n",
    "\n",
    "# removing rows where tag is nan\n",
    "df_dev = df_dev.dropna(subset=[\"tag\"])\n",
    "df_dev = df_dev[df_dev[\"tag\"] != \"nan\"]\n",
    "df_test = df_test.dropna(subset=[\"tag\"])\n",
    "df_test = df_test[df_test[\"tag\"] != \"nan\"]\n",
    "\n",
    "# lower case all words\n",
    "df_test[\"word\"] = df_test[\"word\"].str.lower()\n",
    "df_dev[\"word\"] = df_dev[\"word\"].str.lower()\n",
    "\n",
    "def get_sentences(df):\n",
    "    words = []\n",
    "    tags = []\n",
    "    lemmas = []\n",
    "    sentence = []\n",
    "    max_s = 0\n",
    "    for index, row in df.iterrows():\n",
    "        word = row[\"word\"]\n",
    "        tag = row[\"tag\"]\n",
    "        lemm = row[\"lemm\"]\n",
    "        sentence.append([word, tag, lemm])\n",
    "\n",
    "        if row[\"word\"] in [\".\", \"?\", \"!\", \";\"]:\n",
    "            words.append([word for word, tag, lemm in sentence])\n",
    "            tags.append([tag for word, tag, lemm in sentence])\n",
    "            lemmas.append([lemm for word, tag, lemm in sentence])\n",
    "            max_s = max(max_s, len(sentence))\n",
    "            sentence = []\n",
    "\n",
    "    print(\"Max sentence length: \", max_s)\n",
    "    return words, tags, lemmas\n",
    "\n",
    "# _s is for string\n",
    "dev_words_s, dev_tags_s, dev_lemmas_s = get_sentences(df_dev)\n",
    "test_words_s, test_tags_s, test_lemmas_s = get_sentences(df_test)\n",
    "print(\"Number of sentences in dev set: \", len(dev_words_s))\n",
    "print(\"Number of sentences in test set: \", len(test_words_s))\n",
    "\n",
    "for i in range(len(dev_words_s)):\n",
    "    if len(dev_words_s[i]) != len(dev_tags_s[i]) or len(dev_words_s[i]) != len(dev_lemmas_s[i]):\n",
    "        print(\"Dimension mismatch in sentence: \", i)\n",
    "        print(\"Words: \", dev_words_s[i])\n",
    "        print(\"Tags: \", dev_tags_s[i])\n",
    "        print(\"Lemmas: \", dev_lemmas_s[i])\n",
    "        break"
   ]
  },
  {
   "cell_type": "code",
   "execution_count": 2,
   "metadata": {},
   "outputs": [
    {
     "name": "stdout",
     "output_type": "stream",
     "text": [
      "Mean sentence length:  24.610241820768138\n"
     ]
    },
    {
     "data": {
      "image/png": "[encoded data removed]",
      "text/plain": [
       "<Figure size 500x500 with 1 Axes>"
      ]
     },
     "metadata": {},
     "output_type": "display_data"
    }
   ],
   "source": [
    "# max sentence length, mean, median \n",
    "mean_s = 0\n",
    "for i in range(len(dev_words_s)):\n",
    "    mean_s += len(dev_words_s[i])\n",
    "mean_s /= len(dev_words_s)\n",
    "print(\"Mean sentence length: \", mean_s)\n",
    "\n",
    "# plot length distribution\n",
    "lengths = [len(s) for s in dev_words_s]\n",
    "sns.displot(lengths, kde=False)\n",
    "plt.show()\n"
   ]
  },
  {
   "cell_type": "code",
   "execution_count": 3,
   "metadata": {},
   "outputs": [
    {
     "name": "stdout",
     "output_type": "stream",
     "text": [
      "Word:  ['mi', 'riferisco', 'al', 'lavoro', 'dove', 'non', \"c'\", '&egrave;', ',', 'innanzitutto', 'nel', 'mezzogiorno', ',', 'e', 'al', 'lavoro', 'che', 'cambia', '.']\n",
      "Tag:  ['pron_per', 'v_gvrb', 'prep_a', 'nn', 'conj_s', 'adv', 'adv', 'v_essere', 'p_oth', 'adv', 'prep_a', 'nn_p', 'p_oth', 'conj_c', 'prep_a', 'nn', 'pron_rel', 'v_gvrb', 'p_eos']\n",
      "Lemma:  ['mi', 'riferire', 'al', 'lavoro', 'dove', 'non', 'ci', 'essere', ',', 'innanzitutto', 'nel', 'mezzogiorno', ',', 'e', 'al', 'lavoro', 'che', 'cambiare', '.']\n",
      "Encoded word:  [153, 8977, 31, 162, 99, 13, 75, 11, 1, 4242, 35, 1277, 1, 4, 31, 162, 5, 3359, 2]\n",
      "Encoded tag:  [14, 5, 7, 1, 16, 8, 8, 13, 4, 8, 7, 9, 4, 11, 7, 1, 15, 5, 10]\n",
      "Encoded lemma:  [167, 2613, 32, 147, 104, 14, 41, 4, 1, 3755, 39, 1380, 1, 5, 32, 147, 6, 642, 2]\n",
      "\n",
      "Number of unique words:  19729\n",
      "Number of unique tags:  31\n",
      "Number of unique lemmas:  12857\n"
     ]
    }
   ],
   "source": [
    "# encode words\n",
    "word_tokenizer = Tokenizer(filters=\"\")\n",
    "word_tokenizer.fit_on_texts(dev_words_s + test_words_s)\n",
    "dev_words_e = word_tokenizer.texts_to_sequences(dev_words_s)\n",
    "test_words_e = word_tokenizer.texts_to_sequences(test_words_s)\n",
    "\n",
    "# encode tags\n",
    "tag_tokenizer = Tokenizer(filters=\"\")\n",
    "tag_tokenizer.fit_on_texts(dev_tags_s + test_tags_s)\n",
    "dev_tags_e = tag_tokenizer.texts_to_sequences(dev_tags_s)\n",
    "test_tags_e = tag_tokenizer.texts_to_sequences(test_tags_s)\n",
    "\n",
    "# encode lemmas\n",
    "lemma_tokenizer = Tokenizer(filters=\"\")\n",
    "lemma_tokenizer.fit_on_texts(dev_lemmas_s + test_lemmas_s)\n",
    "dev_lemmas_e = lemma_tokenizer.texts_to_sequences(dev_lemmas_s)\n",
    "test_lemmas_e = lemma_tokenizer.texts_to_sequences(test_lemmas_s)\n",
    "\n",
    "# look at first encoded data point\n",
    "print(\"Word: \", dev_words_s[0])\n",
    "print(\"Tag: \", dev_tags_s[0])\n",
    "print(\"Lemma: \", dev_lemmas_s[0])\n",
    "print(\"Encoded word: \", dev_words_e[0])\n",
    "print(\"Encoded tag: \", dev_tags_e[0])\n",
    "print(\"Encoded lemma: \", dev_lemmas_e[0])\n",
    "\n",
    "print(\"\\nNumber of unique words: \", len(word_tokenizer.word_index))\n",
    "print(\"Number of unique tags: \", len(tag_tokenizer.word_index))\n",
    "print(\"Number of unique lemmas: \", len(lemma_tokenizer.word_index))"
   ]
  },
  {
   "cell_type": "code",
   "execution_count": 4,
   "metadata": {},
   "outputs": [
    {
     "name": "stdout",
     "output_type": "stream",
     "text": [
      "Encoded words:  [ 153 8977   31  162   99   13   75   11    1 4242   35 1277    1    4\n",
      "   31  162    5 3359    2    0    0    0    0    0    0    0    0    0\n",
      "    0    0    0    0    0    0    0    0    0    0    0    0    0    0\n",
      "    0    0    0    0    0    0    0    0]\n",
      "Encoded tags:  [14  5  7  1 16  8  8 13  4  8  7  9  4 11  7  1 15  5 10  0  0  0  0  0\n",
      "  0  0  0  0  0  0  0  0  0  0  0  0  0  0  0  0  0  0  0  0  0  0  0  0\n",
      "  0  0]\n",
      "Encoded lemmas:  [ 167 2613   32  147  104   14   41    4    1 3755   39 1380    1    5\n",
      "   32  147    6  642    2    0    0    0    0    0    0    0    0    0\n",
      "    0    0    0    0    0    0    0    0    0    0    0    0    0    0\n",
      "    0    0    0    0    0    0    0    0]\n"
     ]
    }
   ],
   "source": [
    "MAX_SENTENCE_LENGTH = 50\n",
    "PADDING_TYPE = \"post\"\n",
    "TRUNCATING_TYPE = \"post\"\n",
    "\n",
    "# pad encoded data\n",
    "dev_words_e = tf.keras.preprocessing.sequence.pad_sequences(dev_words_e, maxlen=MAX_SENTENCE_LENGTH, padding=PADDING_TYPE, truncating=TRUNCATING_TYPE)\n",
    "test_words_e = tf.keras.preprocessing.sequence.pad_sequences(test_words_e, maxlen=MAX_SENTENCE_LENGTH, padding=PADDING_TYPE, truncating=TRUNCATING_TYPE)\n",
    "dev_tags_e = tf.keras.preprocessing.sequence.pad_sequences(dev_tags_e, maxlen=MAX_SENTENCE_LENGTH, padding=PADDING_TYPE, truncating=TRUNCATING_TYPE)\n",
    "test_tags_e = tf.keras.preprocessing.sequence.pad_sequences(test_tags_e, maxlen=MAX_SENTENCE_LENGTH, padding=PADDING_TYPE, truncating=TRUNCATING_TYPE)\n",
    "dev_lemmas_e = tf.keras.preprocessing.sequence.pad_sequences(dev_lemmas_e, maxlen=MAX_SENTENCE_LENGTH, padding=PADDING_TYPE, truncating=TRUNCATING_TYPE)\n",
    "test_lemmas_e = tf.keras.preprocessing.sequence.pad_sequences(test_lemmas_e, maxlen=MAX_SENTENCE_LENGTH, padding=PADDING_TYPE, truncating=TRUNCATING_TYPE)\n",
    "\n",
    "# print first encoded data point\n",
    "print(\"Encoded words: \", dev_words_e[0])\n",
    "print(\"Encoded tags: \", dev_tags_e[0])\n",
    "print(\"Encoded lemmas: \", dev_lemmas_e[0])"
   ]
  },
  {
   "cell_type": "code",
   "execution_count": 5,
   "metadata": {},
   "outputs": [],
   "source": [
    "EMBEDDING_SIZE = 256\n",
    "VOCABULARY_SIZE = len(word_tokenizer.word_index) + 1\n",
    "\n",
    "# train word2vec model\n",
    "word2vec = gensim.models.Word2Vec(dev_words_s + test_words_s, vector_size=EMBEDDING_SIZE, window=7, min_count=1, workers=4)\n",
    "\n",
    "# create an empty embedding matix\n",
    "embedding_weights = np.zeros((VOCABULARY_SIZE, EMBEDDING_SIZE))\n",
    "\n",
    "# create a word to index dictionary mapping\n",
    "word2id = word_tokenizer.word_index\n",
    "\n",
    "# copy vectors from word2vec model to the words present in corpus\n",
    "for word, index in word2id.items():\n",
    "    try:\n",
    "        embedding_weights[index, :] = word2vec.wv[word]\n",
    "    except KeyError:\n",
    "        pass\n"
   ]
  },
  {
   "cell_type": "code",
   "execution_count": 8,
   "metadata": {},
   "outputs": [
    {
     "name": "stdout",
     "output_type": "stream",
     "text": [
      "Shape of dev words:  (703, 50)\n",
      "Shape of dev tags:  (703, 50)\n",
      "Shape of dev lemmas:  (703, 50)\n",
      "Shape of test words:  (5596, 50)\n",
      "Shape of test tags:  (5596, 50)\n",
      "Shape of test lemmas:  (5596, 50)\n"
     ]
    }
   ],
   "source": [
    "print(\"Shape of dev words: \", dev_words_e.shape)\n",
    "print(\"Shape of dev tags: \", dev_tags_e.shape)\n",
    "print(\"Shape of dev lemmas: \", dev_lemmas_e.shape)\n",
    "print(\"Shape of test words: \", test_words_e.shape)\n",
    "print(\"Shape of test tags: \", test_tags_e.shape)\n",
    "print(\"Shape of test lemmas: \", test_lemmas_e.shape)"
   ]
  },
  {
   "cell_type": "code",
   "execution_count": 19,
   "metadata": {},
   "outputs": [
    {
     "name": "stdout",
     "output_type": "stream",
     "text": [
      "Model: \"model_6\"\n",
      "__________________________________________________________________________________________________\n",
      " Layer (type)                   Output Shape         Param #     Connected to                     \n",
      "==================================================================================================\n",
      " words (InputLayer)             [(None, 50)]         0           []                               \n",
      "                                                                                                  \n",
      " tags (InputLayer)              [(None, 50)]         0           []                               \n",
      "                                                                                                  \n",
      " word_embedding (Embedding)     (None, 50, 256)      5050880     ['words[0][0]']                  \n",
      "                                                                                                  \n",
      " tag_embedding (Embedding)      (None, 50, 256)      8192        ['tags[0][0]']                   \n",
      "                                                                                                  \n",
      " time1 (TimeDistributed)        (None, 50, 256)      65792       ['word_embedding[0][0]']         \n",
      "                                                                                                  \n",
      " time2 (TimeDistributed)        (None, 50, 256)      65792       ['tag_embedding[0][0]']          \n",
      "                                                                                                  \n",
      " concatenate_6 (Concatenate)    (None, 50, 512)      0           ['time1[0][0]',                  \n",
      "                                                                  'time2[0][0]']                  \n",
      "                                                                                                  \n",
      " lstm1 (Bidirectional)          (None, 50, 2048)     12591104    ['concatenate_6[0][0]']          \n",
      "                                                                                                  \n",
      " dropout_12 (Dropout)           (None, 50, 2048)     0           ['lstm1[0][0]']                  \n",
      "                                                                                                  \n",
      " lstm2 (Bidirectional)          (None, 50, 2048)     25174016    ['dropout_12[0][0]']             \n",
      "                                                                                                  \n",
      " dropout_13 (Dropout)           (None, 50, 2048)     0           ['lstm2[0][0]']                  \n",
      "                                                                                                  \n",
      " dense1 (Dense)                 (None, 50, 1024)     2098176     ['dropout_13[0][0]']             \n",
      "                                                                                                  \n",
      " output (Dense)                 (None, 50, 12858)    13179450    ['dense1[0][0]']                 \n",
      "                                                                                                  \n",
      "==================================================================================================\n",
      "Total params: 58,233,402\n",
      "Trainable params: 58,233,402\n",
      "Non-trainable params: 0\n",
      "__________________________________________________________________________________________________\n"
     ]
    }
   ],
   "source": [
    "# Bidirectional LSTM for lemmatization\n",
    "# inputs:\n",
    "#   - words: encoded words\n",
    "#   - tags: encoded tags\n",
    "# outputs:\n",
    "#   - lemmas: encoded lemmas\n",
    "\n",
    "def get_model():\n",
    "    words = tf.keras.Input(shape=(MAX_SENTENCE_LENGTH,), name=\"words\")\n",
    "    tags = tf.keras.Input(shape=(MAX_SENTENCE_LENGTH,), name=\"tags\")\n",
    "\n",
    "    word_embedding = tf.keras.layers.Embedding(input_dim=VOCABULARY_SIZE, output_dim=EMBEDDING_SIZE, weights=[embedding_weights], trainable=True, name=\"word_embedding\")(words)\n",
    "    word_embedding = TimeDistributed(tf.keras.layers.Dense(EMBEDDING_SIZE, activation=\"swish\"), name=\"time1\")(word_embedding)\n",
    "    tag_embedding = tf.keras.layers.Embedding(input_dim=len(tag_tokenizer.word_index) + 1, output_dim=EMBEDDING_SIZE, trainable = True, name=\"tag_embedding\")(tags)\n",
    "    tag_embedding = TimeDistributed(tf.keras.layers.Dense(EMBEDDING_SIZE, activation=\"swish\"), name=\"time2\")(tag_embedding)\n",
    "\n",
    "    # concatenate word and tag embeddings\n",
    "    Concatenate = tf.keras.layers.Concatenate()([word_embedding, tag_embedding])\n",
    "\n",
    "    # bidirectional LSTM\n",
    "    lstm = tf.keras.layers.Bidirectional(tf.keras.layers.LSTM(1024, return_sequences=True), name=\"lstm1\")(Concatenate)\n",
    "    lstm = tf.keras.layers.Dropout(0.5)(lstm)\n",
    "    lstm = tf.keras.layers.Bidirectional(tf.keras.layers.LSTM(1024, return_sequences=True), name=\"lstm2\")(lstm)\n",
    "\n",
    "    dropout = tf.keras.layers.Dropout(0.5)(lstm)\n",
    "    dense = tf.keras.layers.Dense(1024, activation=\"swish\", name=\"dense1\")(dropout)\n",
    "\n",
    "    output = tf.keras.layers.Dense(len(lemma_tokenizer.word_index) + 1, activation=\"softmax\", name=\"output\")(dense)\n",
    "    \n",
    "    model = tf.keras.Model(inputs=[words, tags], outputs=output)\n",
    "    \n",
    "    return model\n",
    "\n",
    "\n",
    "    \n",
    "model = get_model()\n",
    "model.summary()"
   ]
  },
  {
   "cell_type": "code",
   "execution_count": null,
   "metadata": {},
   "outputs": [],
   "source": [
    "model.compile(optimizer=\"adam\", loss=\"sparse_categorical_crossentropy\", metrics=[\"sparse_categorical_accuracy\"])\n",
    "history = model.fit(x={\"words\": dev_words_e, \"tags\": dev_tags_e}, y=dev_lemmas_e, batch_size=32, epochs=70, validation_split=0.1)"
   ]
  },
  {
   "cell_type": "code",
   "execution_count": null,
   "metadata": {},
   "outputs": [
    {
     "name": "stdout",
     "output_type": "stream",
     "text": [
      "175/175 [==============================] - 14s 81ms/step - loss: 5.3124 - sparse_categorical_accuracy: 0.7896\n",
      "Test loss:  5.31242561340332\n",
      "Test accuracy:  0.7896175980567932\n"
     ]
    }
   ],
   "source": [
    "result = model.evaluate(x={\"words\": test_words_e, \"tags\": test_tags_e}, y=test_lemmas_e)\n",
    "print(\"Test loss: \", result[0])\n",
    "print(\"Test accuracy: \", result[1])"
   ]
  }
 ],
 "metadata": {
  "kernelspec": {
   "display_name": "ml",
   "language": "python",
   "name": "python3"
  },
  "language_info": {
   "codemirror_mode": {
    "name": "ipython",
    "version": 3
   },
   "file_extension": ".py",
   "mimetype": "text/x-python",
   "name": "python",
   "nbconvert_exporter": "python",
   "pygments_lexer": "ipython3",
   "version": "3.10.8 | packaged by conda-forge | (main, Nov 22 2022, 08:25:29) [Clang 14.0.6 ]"
  },
  "orig_nbformat": 4,
  "vscode": {
   "interpreter": {
    "hash": "08eac26dc1f80337b7d87e94e7159a5bad95c2e85f47efef91c61359b3afbfe9"
   }
  }
 },
 "nbformat": 4,
 "nbformat_minor": 2
}
