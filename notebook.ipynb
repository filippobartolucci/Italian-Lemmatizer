{
 "cells": [
  {
   "cell_type": "code",
   "execution_count": 38,
   "metadata": {},
   "outputs": [
    {
     "name": "stdout",
     "output_type": "stream",
     "text": [
      "### DF shape: (133757, 3)\n",
      "\n",
      "### NaN values:\n",
      "word     0\n",
      "tag     95\n",
      "lemm     1\n",
      "dtype: int64\n",
      "\n",
      "### DF shape after removing rows where tag is nan: (133662, 3)\n",
      "\n",
      "### Unique values:\n",
      "word    19800\n",
      "tag        32\n",
      "lemm    12145\n",
      "dtype: int64\n"
     ]
    }
   ],
   "source": [
    "import pandas as pd\n",
    "\n",
    "dataset_path = \"./out.csv\"\n",
    "\n",
    "df = pd.read_csv(dataset_path, sep=\"\\t\", header=None, names=[\"word\", \"tag\", \"lemm\"])\n",
    "\n",
    "print(\"### DF shape:\" ,df.shape)\n",
    "print(\"\\n### NaN values:\")\n",
    "print(df.isnull().sum())\n",
    "\n",
    "# removing rows where tag is nan\n",
    "df = df.dropna(subset=[\"tag\"])\n",
    "print(\"\\n### DF shape after removing rows where tag is nan:\" ,df.shape)\n",
    "\n",
    "# print number of unique values for each column\n",
    "print(\"\\n### Unique values:\")\n",
    "print(df.nunique())\n"
   ]
  },
  {
   "cell_type": "code",
   "execution_count": null,
   "metadata": {},
   "outputs": [],
   "source": []
  }
 ],
 "metadata": {
  "kernelspec": {
   "display_name": "tf",
   "language": "python",
   "name": "python3"
  },
  "language_info": {
   "codemirror_mode": {
    "name": "ipython",
    "version": 3
   },
   "file_extension": ".py",
   "mimetype": "text/x-python",
   "name": "python",
   "nbconvert_exporter": "python",
   "pygments_lexer": "ipython3",
   "version": "3.10.8"
  },
  "orig_nbformat": 4,
  "vscode": {
   "interpreter": {
    "hash": "40527a5e21a0fe71350810bdaf893be95d4327fbe99858a2d25f6483c406c492"
   }
  }
 },
 "nbformat": 4,
 "nbformat_minor": 2
}
