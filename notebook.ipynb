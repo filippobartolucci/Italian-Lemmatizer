{
 "cells": [
  {
   "attachments": {},
   "cell_type": "markdown",
   "metadata": {},
   "source": [
    "# Lemmatization"
   ]
  },
  {
   "attachments": {},
   "cell_type": "markdown",
   "metadata": {},
   "source": [
    "# Dataset"
   ]
  },
  {
   "cell_type": "code",
   "execution_count": 4,
   "metadata": {},
   "outputs": [
    {
     "name": "stdout",
     "output_type": "stream",
     "text": [
      "### DF shape: (18506, 3)\n",
      "\n",
      "### NaN values:\n",
      "word    0\n",
      "tag     0\n",
      "lemm    0\n",
      "dtype: int64\n",
      "\n",
      "### DF shape after removing rows where tag is nan: (18506, 3)\n",
      "\n",
      "### Unique values:\n",
      "word    18506\n",
      "tag        32\n",
      "lemm    12001\n",
      "dtype: int64\n"
     ]
    }
   ],
   "source": [
    "import pandas as pd\n",
    "import tensorflow as tf\n",
    "import numpy as np\n",
    "\n",
    "dataset_path = \"./out.csv\"\n",
    "df = pd.read_csv(dataset_path, sep=\"\\t\", header=None, names=[\"word\", \"tag\", \"lemm\"])\n",
    "\n",
    "df[\"word\"] = df[\"word\"].astype(str) \n",
    "df[\"tag\"] = df[\"tag\"].astype(str)\n",
    "df[\"lemm\"] = df[\"lemm\"].astype(str)\n",
    "\n",
    "# remove duplicates in word columns\n",
    "df = df.drop_duplicates(subset=[\"word\"])\n",
    "\n",
    "# remove head\n",
    "df = df.iloc[1:]\n",
    "\n",
    "# remove tag P_OTH\n",
    "df = df[df[\"tag\"] != \"P_OTH\"]\n",
    "\n",
    "print(\"### DF shape:\" ,df.shape)\n",
    "print(\"\\n### NaN values:\")\n",
    "print(df.isnull().sum())\n",
    "\n",
    "# removing rows where tag is nan\n",
    "df = df.dropna(subset=[\"tag\"])\n",
    "print(\"\\n### DF shape after removing rows where tag is nan:\" ,df.shape)\n",
    "\n",
    "# print number of unique values for each column\n",
    "print(\"\\n### Unique values:\")\n",
    "print(df.nunique())\n",
    "\n",
    "# lower case all words\n",
    "df[\"word\"] = df[\"word\"].str.lower()\n",
    "\n",
    "\n"
   ]
  },
  {
   "attachments": {},
   "cell_type": "markdown",
   "metadata": {},
   "source": [
    "# Data Processing"
   ]
  },
  {
   "attachments": {},
   "cell_type": "markdown",
   "metadata": {},
   "source": [
    "# Keras Embedding"
   ]
  },
  {
   "cell_type": "code",
   "execution_count": 5,
   "metadata": {},
   "outputs": [
    {
     "name": "stdout",
     "output_type": "stream",
     "text": [
      "\n",
      "### Number of unique characters: 60\n",
      "\n",
      "### Max word length: 25\n"
     ]
    }
   ],
   "source": [
    "# get all unique letter in words\n",
    "characters = set()\n",
    "for word in df[\"lemm\"]:\n",
    "    for letter in word:\n",
    "        characters.add(letter)\n",
    "\n",
    "# add padding and unknown to characters\n",
    "characters.add(\" \")\n",
    "\n",
    "\n",
    "print(\"\\n### Number of unique characters:\", len(characters))\n",
    "\n",
    "# create a dictionary that maps characters to integers\n",
    "char2int = {c: i for i, c in enumerate(sorted(characters))}\n",
    "\n",
    "# create a dictionary that maps integers to characters\n",
    "int2char = {i: c for i, c in enumerate(sorted(characters))}\n",
    "\n",
    "\n",
    "max_word_length = df[\"lemm\"].str.len().max()\n",
    "print(\"\\n### Max word length:\", max_word_length)\n",
    "\n",
    "\n",
    "# create a function that will pad a word\n",
    "def pad_word(word, max_word_length):\n",
    "    return word + \" \" * (max_word_length - len(word))\n",
    "\n",
    "\n",
    "df[\"word\"] = df[\"word\"].apply(lambda x: pad_word(x, max_word_length))\n",
    "df[\"lemm\"] = df[\"lemm\"].apply(lambda x: pad_word(x, max_word_length))\n"
   ]
  },
  {
   "cell_type": "code",
   "execution_count": 6,
   "metadata": {},
   "outputs": [
    {
     "name": "stdout",
     "output_type": "stream",
     "text": [
      "Character: a, Index: 34, Vector: [[ 0.02220435  0.03470185 -0.03728743 -0.01627105]]\n",
      "Character: b, Index: 35, Vector: [[-0.02766057  0.0440712  -0.04992331  0.03657413]]\n",
      "Character: c, Index: 36, Vector: [[ 0.04293891  0.04462409 -0.04066285  0.04084182]]\n",
      "Word: abc\n"
     ]
    },
    {
     "data": {
      "text/html": [
       "<div>\n",
       "<style scoped>\n",
       "    .dataframe tbody tr th:only-of-type {\n",
       "        vertical-align: middle;\n",
       "    }\n",
       "\n",
       "    .dataframe tbody tr th {\n",
       "        vertical-align: top;\n",
       "    }\n",
       "\n",
       "    .dataframe thead th {\n",
       "        text-align: right;\n",
       "    }\n",
       "</style>\n",
       "<table border=\"1\" class=\"dataframe\">\n",
       "  <thead>\n",
       "    <tr style=\"text-align: right;\">\n",
       "      <th></th>\n",
       "      <th>word</th>\n",
       "      <th>tag</th>\n",
       "      <th>lemm</th>\n",
       "      <th>word_e</th>\n",
       "    </tr>\n",
       "  </thead>\n",
       "  <tbody>\n",
       "    <tr>\n",
       "      <th>1</th>\n",
       "      <td>\"</td>\n",
       "      <td>p_oth</td>\n",
       "      <td>\"</td>\n",
       "      <td>((tf.Tensor(0.012610484, shape=(), dtype=float...</td>\n",
       "    </tr>\n",
       "    <tr>\n",
       "      <th>2</th>\n",
       "      <td>craxi</td>\n",
       "      <td>nn_p</td>\n",
       "      <td>craxi</td>\n",
       "      <td>((tf.Tensor(0.042938914, shape=(), dtype=float...</td>\n",
       "    </tr>\n",
       "    <tr>\n",
       "      <th>3</th>\n",
       "      <td>:</td>\n",
       "      <td>p_oth</td>\n",
       "      <td>:</td>\n",
       "      <td>((tf.Tensor(0.014609661, shape=(), dtype=float...</td>\n",
       "    </tr>\n",
       "    <tr>\n",
       "      <th>4</th>\n",
       "      <td>non</td>\n",
       "      <td>adv</td>\n",
       "      <td>non</td>\n",
       "      <td>((tf.Tensor(0.04233743, shape=(), dtype=float3...</td>\n",
       "    </tr>\n",
       "    <tr>\n",
       "      <th>5</th>\n",
       "      <td>ci</td>\n",
       "      <td>adv</td>\n",
       "      <td>ci</td>\n",
       "      <td>((tf.Tensor(0.042938914, shape=(), dtype=float...</td>\n",
       "    </tr>\n",
       "  </tbody>\n",
       "</table>\n",
       "</div>"
      ],
      "text/plain": [
       "                        word    tag                       lemm  \\\n",
       "1  \"                          p_oth  \"                           \n",
       "2  craxi                       nn_p  craxi                       \n",
       "3  :                          p_oth  :                           \n",
       "4  non                          adv  non                         \n",
       "5  ci                           adv  ci                          \n",
       "\n",
       "                                              word_e  \n",
       "1  ((tf.Tensor(0.012610484, shape=(), dtype=float...  \n",
       "2  ((tf.Tensor(0.042938914, shape=(), dtype=float...  \n",
       "3  ((tf.Tensor(0.014609661, shape=(), dtype=float...  \n",
       "4  ((tf.Tensor(0.04233743, shape=(), dtype=float3...  \n",
       "5  ((tf.Tensor(0.042938914, shape=(), dtype=float...  "
      ]
     },
     "execution_count": 6,
     "metadata": {},
     "output_type": "execute_result"
    }
   ],
   "source": [
    "import numpy as np\n",
    "from keras.layers import Embedding\n",
    "\n",
    "# Create an embedding layer\n",
    "vocab_size = len(characters)\n",
    "embedding_dim = 4\n",
    "embedding_layer = Embedding(vocab_size, embedding_dim, input_length=1)\n",
    "\n",
    "\n",
    "# Convert characters to dense vectors using the embedding layer\n",
    "word = \"abc\"\n",
    "\n",
    "dense_vectors = []\n",
    "for char in word:\n",
    "    char_index = char2int[char]\n",
    "    dense_vector = embedding_layer(np.array([char_index]))\n",
    "    dense_vectors.append(dense_vector)\n",
    "    print(\"Character: {}, Index: {}, Vector: {}\".format(char, char_index, dense_vector))\n",
    "  \n",
    "# Concatenate dense vectors into a single tensor\n",
    "dense_tensor = np.concatenate(dense_vectors, axis=0)\n",
    "\n",
    "print(\"Word: {}\".format(word))\n",
    "\n",
    "\n",
    "# apply the embedding layer to the all the words in the dataset\n",
    "with tf.device('/CPU:0'):\n",
    "    df[\"word_e\"] = df[\"word\"].apply(lambda x: embedding_layer(np.array([char2int[char] for char in x])))\n",
    "\n",
    "df.head()\n"
   ]
  },
  {
   "cell_type": "code",
   "execution_count": 7,
   "metadata": {},
   "outputs": [],
   "source": [
    "# one hot encode tags\n",
    "from sklearn.preprocessing import OneHotEncoder\n",
    "\n",
    "char_enc = OneHotEncoder(sparse_output=False)\n",
    "char_enc.fit([[char] for char in characters])\n",
    "\n",
    "def encode_word(word):\n",
    "    return char_enc.transform([[char] for char in word])\n",
    "\n",
    "def decode_word(encoded_word):\n",
    "    return \"\".join(char_enc.inverse_transform(encoded_word))\n",
    "\n",
    "# encode lemmas\n",
    "df[\"lemm_e\"] = df[\"lemm\"].apply(encode_word)"
   ]
  },
  {
   "cell_type": "code",
   "execution_count": 14,
   "metadata": {},
   "outputs": [
    {
     "name": "stdout",
     "output_type": "stream",
     "text": [
      "### Train shape: (14804, 2)\n",
      "### Test shape: (3702, 2)\n"
     ]
    }
   ],
   "source": [
    "# one hot encode tags\n",
    "from sklearn.preprocessing import OneHotEncoder\n",
    "\n",
    "# create the encoder\n",
    "encoder = OneHotEncoder(sparse_output=False)\n",
    "\n",
    "# fit the encoder\n",
    "encoder.fit(df[[\"tag\"]])\n",
    "\n",
    "# transform the data\n",
    "df[\"tag_e\"] = encoder.transform(df[[\"tag\"]]).tolist()\n",
    "\n",
    "# split the dataset into train and test\n",
    "from sklearn.model_selection import train_test_split\n",
    "\n",
    "x = df[[\"word_e\", \"tag_e\"]]\n",
    "y = df[[\"lemm_e\"]]\n",
    "\n",
    "x_train, x_test, y_train, y_test = train_test_split(x, y , test_size=0.2, random_state=42)\n",
    "\n",
    "print(\"### Train shape:\", x_train.shape)\n",
    "\n",
    "print(\"### Test shape:\", x_test.shape)\n"
   ]
  },
  {
   "attachments": {},
   "cell_type": "markdown",
   "metadata": {},
   "source": [
    "# Model"
   ]
  },
  {
   "cell_type": "code",
   "execution_count": null,
   "metadata": {},
   "outputs": [],
   "source": [
    "# The lemmatizer is a sequence-to-sequence model that uses a recurrent LSTM \n",
    "# layer to generate a sequence of characters for each lemma. The input to the\n",
    "#  LSTM consists of the embedding of the previous output character, \n",
    "# a character-level attention mechanism that uses the outputs of a character-level BRNN,\n",
    "#  and information about the word embedding, surrounding sentence context, and output of a tagger. \n",
    "# The lemmatizer uses greedy decoding to predict the character outputs and stops either when \n",
    "# it produces an end-of-word character or reaches a character limit. \n",
    "\n",
    "\n",
    "from keras.models import Model\n",
    "from keras.layers import Input, LSTM, Dense, Embedding, Concatenate, Bidirectional, TimeDistributed, RepeatVector, Activation, Dot, Lambda\n",
    "from keras import backend as K\n",
    "\n",
    "# disable gpu in tensorflow\n",
    "\n",
    "\n",
    "\n",
    "# define the model\n",
    "def define_model(src_vocab, tar_vocab, src_timesteps, tar_timesteps, n_units):\n",
    "    # define training encoder\n",
    "    encoder_inputs = Input(shape=(src_timesteps, src_vocab))\n",
    "    encoder = Bidirectional(LSTM(n_units, return_state=True))\n",
    "    encoder_outputs, forward_h, forward_c, backward_h, backward_c = encoder(encoder_inputs)\n",
    "    state_h = Concatenate()([forward_h, backward_h])\n",
    "    state_c = Concatenate()([forward_c, backward_c])\n",
    "    encoder_states = [state_h, state_c]\n",
    "    # define training decoder\n",
    "    decoder_inputs = Input(shape=(None, tar_vocab))\n",
    "    decoder_lstm = LSTM(n_units*2, return_sequences=True, return_state=True)\n",
    "    decoder_outputs, _, _ = decoder_lstm(decoder_inputs, initial_state=encoder_states)\n",
    "    decoder_dense = Dense(tar_vocab, activation='softmax')\n",
    "    decoder_outputs = decoder_dense(decoder_outputs)\n",
    "    model = Model([encoder_inputs, decoder_inputs], decoder_outputs)\n",
    "    # define inference encoder\n",
    "    encoder_model = Model(encoder_inputs, encoder_states)\n",
    "    # define inference decoder\n",
    "    decoder_state_input_h = Input(shape=(n_units*2,))\n",
    "    decoder_state_input_c = Input(shape=(n_units*2,))\n",
    "    decoder_states_inputs = [decoder_state_input_h, decoder_state_input_c]\n",
    "    decoder_outputs, state_h, state_c = decoder_lstm(decoder_inputs, initial_state=decoder_states_inputs)\n",
    "    decoder_states = [state_h, state_c]\n",
    "    decoder_outputs = decoder_dense(decoder_outputs)\n",
    "    decoder_model = Model([decoder_inputs] + decoder_states_inputs, [decoder_outputs] + decoder_states)\n",
    "    # return all models\n",
    "    return model, encoder_model, decoder_model\n",
    "\n",
    "# define model\n",
    "model, encoder_model, decoder_model = define_model(60, 60, max_word_length, max_word_length, 256)\n",
    "\n",
    "# compile model\n",
    "model.compile(optimizer='adam', loss='categorical_crossentropy', metrics=[\"accuracy\"])\n",
    "\n",
    "# fit model\n",
    "model.fit([X_train, X_train], y_train, batch_size=512 , epochs=10, validation_data=([X_test, X_test], y_test))\n",
    "\n"
   ]
  },
  {
   "cell_type": "code",
   "execution_count": 3,
   "metadata": {},
   "outputs": [
    {
     "ename": "KeyError",
     "evalue": "' '",
     "output_type": "error",
     "traceback": [
      "\u001b[0;31m---------------------------------------------------------------------------\u001b[0m",
      "\u001b[0;31mKeyError\u001b[0m                                  Traceback (most recent call last)",
      "Cell \u001b[0;32mIn[3], line 6\u001b[0m\n\u001b[1;32m      3\u001b[0m \u001b[39mfrom\u001b[39;00m \u001b[39mkeras\u001b[39;00m\u001b[39m.\u001b[39;00m\u001b[39mmodels\u001b[39;00m \u001b[39mimport\u001b[39;00m Sequential\n\u001b[1;32m      4\u001b[0m \u001b[39mfrom\u001b[39;00m \u001b[39mkeras\u001b[39;00m\u001b[39m.\u001b[39;00m\u001b[39mlayers\u001b[39;00m \u001b[39mimport\u001b[39;00m LSTM, Dense, Masking\n\u001b[0;32m----> 6\u001b[0m padding_index \u001b[39m=\u001b[39m char2int[\u001b[39m\"\u001b[39;49m\u001b[39m \u001b[39;49m\u001b[39m\"\u001b[39;49m]\n\u001b[1;32m      7\u001b[0m padding \u001b[39m=\u001b[39m embedding_layer(np\u001b[39m.\u001b[39marray([padding_index]))\n\u001b[1;32m      9\u001b[0m model \u001b[39m=\u001b[39m Sequential()\n",
      "\u001b[0;31mKeyError\u001b[0m: ' '"
     ]
    }
   ],
   "source": [
    "# lstm model with masking layer\n",
    "\n",
    "from keras.models import Sequential\n",
    "from keras.layers import LSTM, Dense, Masking\n",
    "\n",
    "padding_index = char2int[\" \"]\n",
    "padding = embedding_layer(np.array([padding_index]))\n",
    "\n",
    "model = Sequential()\n",
    "model.add(Masking(mask_value=padding, input_shape=(max_word_length , embedding_dim)))\n",
    "model.add(LSTM(256, return_sequences=True))\n",
    "model.add(LSTM(256))\n",
    "model.add(Dense(256, activation=\"swish\"))\n",
    "model.add(Dense(128, activation=\"swish\"))\n",
    "model.add(Dense(64, activation=\"swish\"))\n",
    "model.add(Dense(32, activation=\"softmax\"))\n",
    "\n",
    "model.compile(loss=\"categorical_crossentropy\", optimizer=\"adam\", metrics=[\"accuracy\"])\n",
    "\n",
    "model.fit(X_train, y_train, epochs=100, batch_size=32, validation_data=(X_test, y_test))\n",
    "    "
   ]
  }
 ],
 "metadata": {
  "kernelspec": {
   "display_name": "ml",
   "language": "python",
   "name": "python3"
  },
  "language_info": {
   "codemirror_mode": {
    "name": "ipython",
    "version": 3
   },
   "file_extension": ".py",
   "mimetype": "text/x-python",
   "name": "python",
   "nbconvert_exporter": "python",
   "pygments_lexer": "ipython3",
   "version": "3.10.8 | packaged by conda-forge | (main, Nov 22 2022, 08:25:29) [Clang 14.0.6 ]"
  },
  "orig_nbformat": 4,
  "vscode": {
   "interpreter": {
    "hash": "08eac26dc1f80337b7d87e94e7159a5bad95c2e85f47efef91c61359b3afbfe9"
   }
  }
 },
 "nbformat": 4,
 "nbformat_minor": 2
}
