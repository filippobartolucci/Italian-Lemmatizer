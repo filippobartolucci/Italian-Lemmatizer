{
 "cells": [
  {
   "cell_type": "code",
   "execution_count": 52,
   "metadata": {},
   "outputs": [],
   "source": [
    "import pyreadr\n",
    "from conllu import parse\n",
    "import pandas as pd\n",
    "import numpy as np\n",
    "from io import open\n",
    "from conllu import parse_incr\n"
   ]
  },
  {
   "cell_type": "code",
   "execution_count": 67,
   "metadata": {},
   "outputs": [],
   "source": [
    "data_file_dev = open(\"it_partut-ud-dev.conllu\", \"r\", encoding=\"utf-8\")\n",
    "data_file_train = open(\"it_partut-ud-train.conllu\", \"r\", encoding=\"utf-8\")\n",
    "data_file_test = open(\"it_partut-ud-test.conllu\", \"r\", encoding=\"utf-8\")\n",
    "sentences = []\n",
    "words_lemmas = []\n",
    "\n",
    "for tokenlist in parse_incr(data_file_dev):\n",
    "    w_l = []\n",
    "    for token in tokenlist:\n",
    "        w_l = [token['form'], token['lemma'], token['upos']]\n",
    "        words_lemmas.append(w_l)\n",
    "        w_l = []\n",
    "    sentences.append(tokenlist.metadata['text'])\n",
    "    \n",
    "\n",
    "for tokenlist in parse_incr(data_file_train):\n",
    "    w_l = []\n",
    "    for token in tokenlist:\n",
    "        w_l = [token['form'], token['lemma'], token['upos']]\n",
    "        words_lemmas.append(w_l)\n",
    "        w_l = []\n",
    "    sentences.append(tokenlist.metadata['text'])\n",
    "\n",
    "\n",
    "    \n",
    "for tokenlist in parse_incr(data_file_test):\n",
    "    w_l = []\n",
    "    for token in tokenlist:\n",
    "        w_l = [token['form'], token['lemma'], token['upos']]\n",
    "        words_lemmas.append(w_l)\n",
    "        w_l = []\n",
    "    sentences.append(tokenlist.metadata['text'])\n",
    "\n",
    "\n",
    "\n",
    "    \n",
    "        "
   ]
  },
  {
   "cell_type": "code",
   "execution_count": 68,
   "metadata": {},
   "outputs": [],
   "source": [
    "words = set([w_l[0] for w_l in words_lemmas])\n",
    "lemmas = set([w_l[1] for w_l in words_lemmas])\n",
    "pos_tags = set([w_l[2] for w_l in words_lemmas])\n",
    "\n",
    "# lower all\n",
    "words = set([w.lower() for w in words])\n",
    "lemmas = set([l.lower() for l in lemmas])\n",
    "sentences = [s.lower() for s in sentences]\n",
    "pos_tags = set([pt.lower() for pt in pos_tags])\n"
   ]
  },
  {
   "cell_type": "code",
   "execution_count": 69,
   "metadata": {},
   "outputs": [],
   "source": [
    "# create a dictionary with the words as keys and the lemmas as values\n",
    "words_lemmas_dict = {}\n",
    "\n",
    "for w_l in words_lemmas:\n",
    "    words_lemmas_dict[w_l[0]] = w_l[1]\n",
    "    \n",
    "# create a dictionary with the words as keys and the pos-tag as values   \n",
    "words_tag_dict = {}\n",
    "\n",
    "for w_l in words_lemmas:\n",
    "    words_tag_dict[w_l[0]] = w_l[2]\n",
    "    \n",
    "\n",
    "# create dataframe from the two dictionaries\n",
    "df = pd.DataFrame(list(words_tag_dict.items()), columns=['word', 'tag'])\n",
    "df2 = pd.DataFrame(list(words_lemmas_dict.items()), columns=['word', 'lem'])\n",
    "\n",
    "# merge the two dataframes\n",
    "df = pd.merge(df, df2, on='word')\n"
   ]
  },
  {
   "cell_type": "code",
   "execution_count": 70,
   "metadata": {},
   "outputs": [],
   "source": [
    "# drop duplicates and sort the dataframe\n",
    "df = df.drop([0])\n",
    "df = df.drop_duplicates()\n",
    "df = df.sort_values(by=['word'])\n",
    "df = df.dropna()\n",
    "\n",
    "df['word'] = df['word'].str.lower()\n",
    "df['lem'] = df['lem'].str.lower()\n",
    "df['tag'] = df['tag'].str.lower()\n",
    "\n",
    "# # save the dataframe as csv\n",
    "# df.to_csv('./words_lemmas_tags_partut.csv', sep=\"\\t\", escapechar=\"\\t\", index=False)"
   ]
  },
  {
   "cell_type": "code",
   "execution_count": 71,
   "metadata": {},
   "outputs": [],
   "source": [
    "dev = pd.read_csv('./dev.csv', sep='\\t', header=0)\n",
    "test = pd.read_csv('./test.csv', sep='\\t', header=0)\n",
    "\n",
    "#delete the first row\n",
    "dev = dev.drop([0])\n",
    "test = test.drop([0])\n",
    "\n",
    "dev['word'] = dev['word'].str.lower()\n",
    "dev['tag'] = dev['tag'].str.lower()\n",
    "dev['lem'] = dev['lem'].str.lower()\n",
    "\n",
    "test['word'] = test['word'].str.lower()\n",
    "test['tag'] = test['tag'].str.lower()\n",
    "test['lem'] = test['lem'].str.lower()\n",
    "\n",
    "dev = dev.dropna()\n",
    "test = test.dropna()\n",
    "\n",
    "dev = dev.drop_duplicates()\n",
    "test = test.drop_duplicates()\n",
    "\n",
    "        "
   ]
  },
  {
   "cell_type": "code",
   "execution_count": 72,
   "metadata": {},
   "outputs": [],
   "source": [
    "dev_pos = dev['tag'].tolist()\n",
    "test_pos = test['tag'].tolist()\n",
    "\n",
    "# create dict where the key is old pos-tag and the value is new pos-tag\n",
    "dict_pos = {}\n",
    "for i in range(len(dev_pos)):\n",
    "    for j in range(len(pos_tags)):\n",
    "        #if dev_pos[i] contain a substring\n",
    "        if 'v_' in dev_pos[i]:\n",
    "            dict_pos[dev_pos[i]] = 'verb'\n",
    "        if 'p_' in dev_pos[i]:\n",
    "            dict_pos[dev_pos[i]] = 'punct'\n",
    "        if dev_pos[i] == 'nn':\n",
    "            dict_pos[dev_pos[i]] = 'noun'\n",
    "        if 'adj' in dev_pos[i]:\n",
    "            dict_pos[dev_pos[i]] = 'adj'\n",
    "        if 'nn_p' in dev_pos[i]:\n",
    "            dict_pos[dev_pos[i]] = 'propn'\n",
    "        if 'prep_a' in dev_pos[i]:\n",
    "            dict_pos[dev_pos[i]] = '_'\n",
    "        if 'conj_s' in dev_pos[i]:\n",
    "            dict_pos[dev_pos[i]] = 'sconj'\n",
    "        if 'adv' in dev_pos[i]:\n",
    "            dict_pos[dev_pos[i]] = 'adv'\n",
    "        if 'conj_c' in dev_pos[i]:\n",
    "            dict_pos[dev_pos[i]] = 'cconj'\n",
    "        if 'pron_rel' in dev_pos[i]:\n",
    "            dict_pos[dev_pos[i]] = 'pron'\n",
    "        if  dev_pos[i] == 'prep':\n",
    "            dict_pos[dev_pos[i]] = 'adp'\n",
    "        if 'c_num' in dev_pos[i]:\n",
    "            dict_pos[dev_pos[i]] = 'num'\n",
    "        if 'art' in dev_pos[i]:\n",
    "            dict_pos[dev_pos[i]] = 'det'\n",
    "        if 'pron_ind' in dev_pos[i]:\n",
    "            dict_pos[dev_pos[i]] = 'pron'\n",
    "        if 'pron_per' in dev_pos[i]:\n",
    "            dict_pos[dev_pos[i]] = 'pron'\n",
    "        if 'pron_dim' in dev_pos[i]:\n",
    "            dict_pos[dev_pos[i]] = 'pron'\n",
    "        if 'pron_ies' in dev_pos[i]:\n",
    "            dict_pos[dev_pos[i]] = 'pron'\n",
    "        if 'pron_pos' in dev_pos[i]:\n",
    "            dict_pos[dev_pos[i]] = 'pron'\n",
    "        if 'int' in dev_pos[i]:\n",
    "            dict_pos[dev_pos[i]] = 'X'\n",
    "        if 'p_apo' in dev_pos[i]:\n",
    "            dict_pos[dev_pos[i]] = 'punct'\n"
   ]
  },
  {
   "cell_type": "code",
   "execution_count": 73,
   "metadata": {},
   "outputs": [],
   "source": [
    "# replacing old pos-tags with new pos-tags\n",
    "for index, row in dev.iterrows():\n",
    "    row['tag'] = dict_pos[row['tag']]\n",
    "    \n",
    "for index, row in test.iterrows():\n",
    "    row['tag'] = dict_pos[row['tag']]\n"
   ]
  },
  {
   "cell_type": "code",
   "execution_count": 74,
   "metadata": {},
   "outputs": [],
   "source": [
    "#write on csv\n",
    "test.to_csv('./test_new.csv', sep=\"\\t\",escapechar='\\t', index=False)"
   ]
  },
  {
   "cell_type": "code",
   "execution_count": 75,
   "metadata": {},
   "outputs": [],
   "source": [
    "# concatenate\n",
    "new = pd.concat([dev, df])\n",
    "\n",
    "# delete where tag is x\n",
    "new = new[new.tag != 'X']"
   ]
  },
  {
   "cell_type": "code",
   "execution_count": 76,
   "metadata": {},
   "outputs": [],
   "source": [
    "# write on csv\n",
    "new.to_csv('./dev_new.csv', sep=\"\\t\",escapechar='\\t', index=False)"
   ]
  }
 ],
 "metadata": {
  "kernelspec": {
   "display_name": "mlp",
   "language": "python",
   "name": "python3"
  },
  "language_info": {
   "codemirror_mode": {
    "name": "ipython",
    "version": 3
   },
   "file_extension": ".py",
   "mimetype": "text/x-python",
   "name": "python",
   "nbconvert_exporter": "python",
   "pygments_lexer": "ipython3",
   "version": "3.10.8"
  },
  "orig_nbformat": 4,
  "vscode": {
   "interpreter": {
    "hash": "4976e0179d97dd6d59b1329a76e601e17b789c2571b41c8b57f5fd69821c0dd3"
   }
  }
 },
 "nbformat": 4,
 "nbformat_minor": 2
}
